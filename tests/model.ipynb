{
 "cells": [
  {
   "cell_type": "code",
   "execution_count": 1,
   "id": "64b1ca14-7563-4c7e-a610-be301fb3736c",
   "metadata": {
    "tags": []
   },
   "outputs": [],
   "source": [
    "%load_ext autoreload\n",
    "%autoreload 2"
   ]
  },
  {
   "cell_type": "code",
   "execution_count": 54,
   "id": "d2251ea6-14a4-467d-bdb4-e2e31007456a",
   "metadata": {
    "tags": []
   },
   "outputs": [],
   "source": [
    "import torch\n",
    "import torch.nn as nn\n",
    "import torchvision\n",
    "from torchvision.models import resnet18, resnet34\n",
    "import sys\n",
    "sys.path.append('../')\n",
    "import dataset"
   ]
  },
  {
   "cell_type": "code",
   "execution_count": 55,
   "id": "2dce5a12-0ac0-42a8-b193-392b9f4c93cf",
   "metadata": {
    "tags": []
   },
   "outputs": [],
   "source": [
    "pascal_voc_train = torchvision.datasets.VOCDetection(\n",
    "    root=\"../data\",\n",
    "    year=\"2007\",\n",
    "    image_set=\"train\",\n",
    "    download=False\n",
    ")"
   ]
  },
  {
   "cell_type": "code",
   "execution_count": 116,
   "id": "61da2098-5f27-4d5b-8ff2-66d31f8e78ea",
   "metadata": {
    "tags": []
   },
   "outputs": [
    {
     "name": "stdout",
     "output_type": "stream",
     "text": [
      "TRANSFORMING PASCAL VOC\n"
     ]
    }
   ],
   "source": [
    "voc_train = dataset.PascalVOC(pascal_voc=pascal_voc_train)"
   ]
  },
  {
   "cell_type": "code",
   "execution_count": 243,
   "id": "fd3519b2-5a74-49e6-b1e2-7a111cd22a6e",
   "metadata": {
    "tags": []
   },
   "outputs": [],
   "source": [
    "class ResNet18YOLOv1(nn.Module):\n",
    "    def __init__(self, S=7, B=2, C=20):\n",
    "        super().__init__()\n",
    "        self.S = S\n",
    "        self.B = B\n",
    "        self.C = C\n",
    "        self.resnet = self.init_resnet()\n",
    "        self.fc = nn.Sequential(\n",
    "            nn.Linear(7 * 7 * 512, 4096),\n",
    "            nn.Linear(4096, self.S**2 * (5 * self.B + self.C))\n",
    "        )\n",
    "        \n",
    "    def init_resnet(self):\n",
    "        resnet = resnet18(weights=\"IMAGENET1K_V1\") \n",
    "        \n",
    "        # replace relu with leaky relu\n",
    "        resnet = self.replace_with_leaky_relu(resnet)\n",
    "        \n",
    "        # remove feedforward layer\n",
    "        named_children = resnet.named_children()\n",
    "        layers_to_remove = set([\"fc\", \"avgpool\"])\n",
    "        layers = [module for name, module in named_children if name not in layers_to_remove]\n",
    "        \n",
    "        # add a conv layer at the end to reduce feature map to (512, 7, 7)\n",
    "        layers.append(nn.Conv2d(512, 512, kernel_size=2, stride=2))\n",
    "        \n",
    "        return nn.Sequential(*layers)\n",
    "        \n",
    "    def replace_with_leaky_relu(self, nn_module):     \n",
    "        named_children = nn_module.named_children()\n",
    "        \n",
    "        # loop over immediate children modules\n",
    "        for name, module in named_children:\n",
    "            is_relu = isinstance(module, nn.ReLU)\n",
    "            \n",
    "            if is_relu:\n",
    "                leaky_relu = nn.LeakyReLU(negative_slope=0.1, inplace=True)\n",
    "                setattr(nn_module, name, leaky_relu)\n",
    "            else:\n",
    "                self.replace_with_leaky_relu(module)\n",
    "                \n",
    "        return nn_module\n",
    "        \n",
    "    def forward(self, x):\n",
    "        x = self.resnet(x)\n",
    "        x = x.view(x.size(0), -1)\n",
    "        x = self.fc(x)\n",
    "        x = x.view(-1, self.S, self.S, 5 * self.B + self.C)\n",
    "        \n",
    "        return x"
   ]
  },
  {
   "cell_type": "code",
   "execution_count": 244,
   "id": "b655757c-f6bb-4011-8dc8-8b84aa18258c",
   "metadata": {
    "tags": []
   },
   "outputs": [
    {
     "data": {
      "text/plain": [
       "ResNet18YOLOv1(\n",
       "  (resnet): Sequential(\n",
       "    (0): Conv2d(3, 64, kernel_size=(7, 7), stride=(2, 2), padding=(3, 3), bias=False)\n",
       "    (1): BatchNorm2d(64, eps=1e-05, momentum=0.1, affine=True, track_running_stats=True)\n",
       "    (2): LeakyReLU(negative_slope=0.1, inplace=True)\n",
       "    (3): MaxPool2d(kernel_size=3, stride=2, padding=1, dilation=1, ceil_mode=False)\n",
       "    (4): Sequential(\n",
       "      (0): BasicBlock(\n",
       "        (conv1): Conv2d(64, 64, kernel_size=(3, 3), stride=(1, 1), padding=(1, 1), bias=False)\n",
       "        (bn1): BatchNorm2d(64, eps=1e-05, momentum=0.1, affine=True, track_running_stats=True)\n",
       "        (relu): LeakyReLU(negative_slope=0.1, inplace=True)\n",
       "        (conv2): Conv2d(64, 64, kernel_size=(3, 3), stride=(1, 1), padding=(1, 1), bias=False)\n",
       "        (bn2): BatchNorm2d(64, eps=1e-05, momentum=0.1, affine=True, track_running_stats=True)\n",
       "      )\n",
       "      (1): BasicBlock(\n",
       "        (conv1): Conv2d(64, 64, kernel_size=(3, 3), stride=(1, 1), padding=(1, 1), bias=False)\n",
       "        (bn1): BatchNorm2d(64, eps=1e-05, momentum=0.1, affine=True, track_running_stats=True)\n",
       "        (relu): LeakyReLU(negative_slope=0.1, inplace=True)\n",
       "        (conv2): Conv2d(64, 64, kernel_size=(3, 3), stride=(1, 1), padding=(1, 1), bias=False)\n",
       "        (bn2): BatchNorm2d(64, eps=1e-05, momentum=0.1, affine=True, track_running_stats=True)\n",
       "      )\n",
       "    )\n",
       "    (5): Sequential(\n",
       "      (0): BasicBlock(\n",
       "        (conv1): Conv2d(64, 128, kernel_size=(3, 3), stride=(2, 2), padding=(1, 1), bias=False)\n",
       "        (bn1): BatchNorm2d(128, eps=1e-05, momentum=0.1, affine=True, track_running_stats=True)\n",
       "        (relu): LeakyReLU(negative_slope=0.1, inplace=True)\n",
       "        (conv2): Conv2d(128, 128, kernel_size=(3, 3), stride=(1, 1), padding=(1, 1), bias=False)\n",
       "        (bn2): BatchNorm2d(128, eps=1e-05, momentum=0.1, affine=True, track_running_stats=True)\n",
       "        (downsample): Sequential(\n",
       "          (0): Conv2d(64, 128, kernel_size=(1, 1), stride=(2, 2), bias=False)\n",
       "          (1): BatchNorm2d(128, eps=1e-05, momentum=0.1, affine=True, track_running_stats=True)\n",
       "        )\n",
       "      )\n",
       "      (1): BasicBlock(\n",
       "        (conv1): Conv2d(128, 128, kernel_size=(3, 3), stride=(1, 1), padding=(1, 1), bias=False)\n",
       "        (bn1): BatchNorm2d(128, eps=1e-05, momentum=0.1, affine=True, track_running_stats=True)\n",
       "        (relu): LeakyReLU(negative_slope=0.1, inplace=True)\n",
       "        (conv2): Conv2d(128, 128, kernel_size=(3, 3), stride=(1, 1), padding=(1, 1), bias=False)\n",
       "        (bn2): BatchNorm2d(128, eps=1e-05, momentum=0.1, affine=True, track_running_stats=True)\n",
       "      )\n",
       "    )\n",
       "    (6): Sequential(\n",
       "      (0): BasicBlock(\n",
       "        (conv1): Conv2d(128, 256, kernel_size=(3, 3), stride=(2, 2), padding=(1, 1), bias=False)\n",
       "        (bn1): BatchNorm2d(256, eps=1e-05, momentum=0.1, affine=True, track_running_stats=True)\n",
       "        (relu): LeakyReLU(negative_slope=0.1, inplace=True)\n",
       "        (conv2): Conv2d(256, 256, kernel_size=(3, 3), stride=(1, 1), padding=(1, 1), bias=False)\n",
       "        (bn2): BatchNorm2d(256, eps=1e-05, momentum=0.1, affine=True, track_running_stats=True)\n",
       "        (downsample): Sequential(\n",
       "          (0): Conv2d(128, 256, kernel_size=(1, 1), stride=(2, 2), bias=False)\n",
       "          (1): BatchNorm2d(256, eps=1e-05, momentum=0.1, affine=True, track_running_stats=True)\n",
       "        )\n",
       "      )\n",
       "      (1): BasicBlock(\n",
       "        (conv1): Conv2d(256, 256, kernel_size=(3, 3), stride=(1, 1), padding=(1, 1), bias=False)\n",
       "        (bn1): BatchNorm2d(256, eps=1e-05, momentum=0.1, affine=True, track_running_stats=True)\n",
       "        (relu): LeakyReLU(negative_slope=0.1, inplace=True)\n",
       "        (conv2): Conv2d(256, 256, kernel_size=(3, 3), stride=(1, 1), padding=(1, 1), bias=False)\n",
       "        (bn2): BatchNorm2d(256, eps=1e-05, momentum=0.1, affine=True, track_running_stats=True)\n",
       "      )\n",
       "    )\n",
       "    (7): Sequential(\n",
       "      (0): BasicBlock(\n",
       "        (conv1): Conv2d(256, 512, kernel_size=(3, 3), stride=(2, 2), padding=(1, 1), bias=False)\n",
       "        (bn1): BatchNorm2d(512, eps=1e-05, momentum=0.1, affine=True, track_running_stats=True)\n",
       "        (relu): LeakyReLU(negative_slope=0.1, inplace=True)\n",
       "        (conv2): Conv2d(512, 512, kernel_size=(3, 3), stride=(1, 1), padding=(1, 1), bias=False)\n",
       "        (bn2): BatchNorm2d(512, eps=1e-05, momentum=0.1, affine=True, track_running_stats=True)\n",
       "        (downsample): Sequential(\n",
       "          (0): Conv2d(256, 512, kernel_size=(1, 1), stride=(2, 2), bias=False)\n",
       "          (1): BatchNorm2d(512, eps=1e-05, momentum=0.1, affine=True, track_running_stats=True)\n",
       "        )\n",
       "      )\n",
       "      (1): BasicBlock(\n",
       "        (conv1): Conv2d(512, 512, kernel_size=(3, 3), stride=(1, 1), padding=(1, 1), bias=False)\n",
       "        (bn1): BatchNorm2d(512, eps=1e-05, momentum=0.1, affine=True, track_running_stats=True)\n",
       "        (relu): LeakyReLU(negative_slope=0.1, inplace=True)\n",
       "        (conv2): Conv2d(512, 512, kernel_size=(3, 3), stride=(1, 1), padding=(1, 1), bias=False)\n",
       "        (bn2): BatchNorm2d(512, eps=1e-05, momentum=0.1, affine=True, track_running_stats=True)\n",
       "      )\n",
       "    )\n",
       "    (8): Conv2d(512, 512, kernel_size=(2, 2), stride=(2, 2))\n",
       "  )\n",
       "  (fc): Sequential(\n",
       "    (0): Linear(in_features=25088, out_features=4096, bias=True)\n",
       "    (1): Linear(in_features=4096, out_features=1470, bias=True)\n",
       "  )\n",
       ")"
      ]
     },
     "execution_count": 244,
     "metadata": {},
     "output_type": "execute_result"
    }
   ],
   "source": [
    "yolo = ResNet18YOLOv1()\n",
    "yolo"
   ]
  },
  {
   "cell_type": "code",
   "execution_count": 245,
   "id": "415ea285-6754-4229-a0c1-a12c687bda6f",
   "metadata": {
    "tags": []
   },
   "outputs": [
    {
     "data": {
      "text/plain": [
       "torch.Size([1, 3, 448, 448])"
      ]
     },
     "execution_count": 245,
     "metadata": {},
     "output_type": "execute_result"
    }
   ],
   "source": [
    "img = voc_train[0][0]\n",
    "img = img.unsqueeze(0)\n",
    "img.shape"
   ]
  },
  {
   "cell_type": "code",
   "execution_count": 246,
   "id": "6c81d922-79af-4571-af1a-a53d344af939",
   "metadata": {
    "tags": []
   },
   "outputs": [
    {
     "data": {
      "text/plain": [
       "(torch.Size([1, 7, 7, 30]),\n",
       " tensor([[[[-0.6154, -0.1316,  0.0526,  ...,  0.1136, -0.0582, -0.1567],\n",
       "           [ 0.3633,  0.2270, -0.1410,  ..., -0.2798, -0.1981,  0.2558],\n",
       "           [-0.1685,  0.1644, -0.8382,  ..., -0.5201, -0.1070, -0.2146],\n",
       "           ...,\n",
       "           [-0.1184,  0.0367,  0.0250,  ...,  0.2513, -0.0289,  0.3806],\n",
       "           [ 0.1446,  0.0924,  0.2452,  ...,  0.1709,  0.3458, -0.3615],\n",
       "           [ 0.3931, -0.0309,  0.1540,  ...,  0.0830,  0.3806,  0.6287]],\n",
       " \n",
       "          [[-0.7503,  0.2484, -0.4309,  ...,  0.2381,  0.0977,  0.3878],\n",
       "           [ 0.4302, -0.1472,  0.3353,  ..., -0.0331, -0.0993,  0.4362],\n",
       "           [ 0.2035, -0.0211,  0.2381,  ..., -0.1506, -0.5608, -0.3045],\n",
       "           ...,\n",
       "           [-0.1417,  0.0473, -0.0132,  ..., -0.0146, -0.1674, -0.2383],\n",
       "           [ 0.1072, -0.1049, -0.2156,  ..., -0.1790,  0.3378, -0.0987],\n",
       "           [-0.3682, -0.1965,  0.1584,  ...,  0.0257,  0.1124,  0.6327]],\n",
       " \n",
       "          [[ 0.0234,  0.0463, -0.1522,  ...,  0.2997,  0.1035, -0.1220],\n",
       "           [ 0.3564,  0.0216,  0.4104,  ..., -0.2440,  0.7501, -0.0805],\n",
       "           [-0.2244,  0.2916, -0.0473,  ...,  0.6284, -0.1518, -0.4790],\n",
       "           ...,\n",
       "           [-0.1252,  0.5927,  0.2981,  ..., -0.0509, -0.3111, -0.6662],\n",
       "           [ 0.2529, -0.1004,  0.0566,  ...,  0.3972, -0.4956, -0.3166],\n",
       "           [-0.3829,  0.2804, -0.1421,  ...,  0.0197,  0.0692, -0.1276]],\n",
       " \n",
       "          ...,\n",
       " \n",
       "          [[-0.1141,  0.2970, -0.1855,  ..., -0.5545,  0.2073, -0.1304],\n",
       "           [-0.1883,  0.0577,  0.3569,  ..., -0.1214,  0.0243,  0.1164],\n",
       "           [ 0.2763,  0.1114,  0.3366,  ..., -0.0793, -0.1666,  0.1173],\n",
       "           ...,\n",
       "           [-0.0307, -0.1052, -0.4788,  ...,  0.2415,  0.3067, -0.3164],\n",
       "           [ 0.4758, -0.2505,  0.1987,  ...,  0.4271,  0.1111,  0.3124],\n",
       "           [-0.2432, -0.2660,  0.4038,  ...,  0.3662,  0.1400, -0.2201]],\n",
       " \n",
       "          [[-0.2889,  0.4584,  0.8044,  ...,  0.5264, -0.0740,  0.0655],\n",
       "           [ 0.2126,  0.3912,  0.4720,  ...,  0.8459, -0.1583, -0.3238],\n",
       "           [ 0.2024, -0.2363,  0.4980,  ...,  0.1542, -0.0190, -0.0415],\n",
       "           ...,\n",
       "           [ 0.1570,  0.0939,  0.1085,  ...,  0.2942,  0.0937, -0.2711],\n",
       "           [-0.2146,  0.2760,  0.0770,  ...,  0.0417,  0.3863, -0.6750],\n",
       "           [ 0.1516,  0.2596, -0.1904,  ..., -0.0856,  0.3166,  0.4413]],\n",
       " \n",
       "          [[ 0.4550,  0.0314, -0.0500,  ...,  0.0540, -0.0138, -0.3970],\n",
       "           [-0.3768,  0.2587, -0.0398,  ..., -0.0232,  0.5517,  0.0160],\n",
       "           [ 0.2162,  0.2675, -0.1960,  ...,  0.0102,  0.2069,  0.1608],\n",
       "           ...,\n",
       "           [-0.1927,  0.1195, -0.4176,  ...,  0.4504, -0.5068, -0.0101],\n",
       "           [-0.8726,  0.0208,  0.1308,  ..., -0.0971,  0.0707,  0.1385],\n",
       "           [-0.2449,  0.1653,  0.2512,  ...,  0.4023, -0.0608,  0.1771]]]],\n",
       "        grad_fn=<ViewBackward0>))"
      ]
     },
     "execution_count": 246,
     "metadata": {},
     "output_type": "execute_result"
    }
   ],
   "source": [
    "out = yolo(img)\n",
    "out.shape, out"
   ]
  },
  {
   "cell_type": "code",
   "execution_count": null,
   "id": "c1b337ca-6155-4fbd-b2c7-88862e08a581",
   "metadata": {},
   "outputs": [],
   "source": []
  }
 ],
 "metadata": {
  "kernelspec": {
   "display_name": "Python 3 (ipykernel)",
   "language": "python",
   "name": "python3"
  },
  "language_info": {
   "codemirror_mode": {
    "name": "ipython",
    "version": 3
   },
   "file_extension": ".py",
   "mimetype": "text/x-python",
   "name": "python",
   "nbconvert_exporter": "python",
   "pygments_lexer": "ipython3",
   "version": "3.9.16"
  }
 },
 "nbformat": 4,
 "nbformat_minor": 5
}
