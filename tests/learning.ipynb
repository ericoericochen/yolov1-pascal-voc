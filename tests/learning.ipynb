{
 "cells": [
  {
   "cell_type": "code",
   "execution_count": 1,
   "id": "f14e7bab-c051-4627-a261-aa932e064d21",
   "metadata": {
    "tags": []
   },
   "outputs": [],
   "source": [
    "import torch"
   ]
  },
  {
   "cell_type": "code",
   "execution_count": 3,
   "id": "32aa63cd-84b4-4781-946f-ec66949d40af",
   "metadata": {
    "tags": []
   },
   "outputs": [
    {
     "data": {
      "text/plain": [
       "tensor([0.2729, 0.8272, 0.7373, 0.6904, 0.9653])"
      ]
     },
     "execution_count": 3,
     "metadata": {},
     "output_type": "execute_result"
    }
   ],
   "source": [
    "# 1-dim\n",
    "a = torch.rand(5)\n",
    "a"
   ]
  },
  {
   "cell_type": "code",
   "execution_count": 4,
   "id": "fdfd07d3-ad75-4cb6-bd94-b4632625caba",
   "metadata": {
    "tags": []
   },
   "outputs": [
    {
     "name": "stdout",
     "output_type": "stream",
     "text": [
      "tensor(0.9653) tensor(4)\n"
     ]
    }
   ],
   "source": [
    "max_, indices = torch.max(a, dim=0)\n",
    "\n",
    "print(max_, indices)"
   ]
  },
  {
   "cell_type": "code",
   "execution_count": 5,
   "id": "ba692ec4-6d98-400e-8e60-bc57c201ccbf",
   "metadata": {
    "tags": []
   },
   "outputs": [
    {
     "data": {
      "text/plain": [
       "tensor(0.9653)"
      ]
     },
     "execution_count": 5,
     "metadata": {},
     "output_type": "execute_result"
    }
   ],
   "source": [
    "a[indices]"
   ]
  },
  {
   "cell_type": "code",
   "execution_count": null,
   "id": "2d5d1737-26ca-4673-a691-97b6cc5a2f85",
   "metadata": {},
   "outputs": [],
   "source": []
  },
  {
   "cell_type": "code",
   "execution_count": null,
   "id": "c6359c66-853e-444d-9427-95f5898719e8",
   "metadata": {},
   "outputs": [],
   "source": [
    "# 2-dim"
   ]
  },
  {
   "cell_type": "code",
   "execution_count": 22,
   "id": "7e972af6-9553-403a-bbfa-7d4ed26cb5ba",
   "metadata": {
    "tags": []
   },
   "outputs": [
    {
     "data": {
      "text/plain": [
       "tensor([[0.5559, 0.4322, 0.3503, 0.6921],\n",
       "        [0.4734, 0.6359, 0.0196, 0.3280]])"
      ]
     },
     "execution_count": 22,
     "metadata": {},
     "output_type": "execute_result"
    }
   ],
   "source": [
    "a = torch.rand((2, 4))\n",
    "a"
   ]
  },
  {
   "cell_type": "code",
   "execution_count": 23,
   "id": "f0078100-7a4e-4501-a67c-55f7abeaf4a6",
   "metadata": {
    "tags": []
   },
   "outputs": [
    {
     "data": {
      "text/plain": [
       "(tensor([0.5559, 0.6359, 0.3503, 0.6921]), tensor([0, 1, 0, 0]))"
      ]
     },
     "execution_count": 23,
     "metadata": {},
     "output_type": "execute_result"
    }
   ],
   "source": [
    "row_max, indices = torch.max(a, dim=0)\n",
    "\n",
    "row_max, indices"
   ]
  },
  {
   "cell_type": "code",
   "execution_count": 24,
   "id": "ca81f567-5e01-4fe3-b397-732cf1921c07",
   "metadata": {
    "tags": []
   },
   "outputs": [
    {
     "data": {
      "text/plain": [
       "tensor([0, 1, 0, 0])"
      ]
     },
     "execution_count": 24,
     "metadata": {},
     "output_type": "execute_result"
    }
   ],
   "source": [
    "indices"
   ]
  },
  {
   "cell_type": "code",
   "execution_count": 43,
   "id": "3ccdc02a-58a4-457a-8eb8-c96895e714b8",
   "metadata": {
    "tags": []
   },
   "outputs": [
    {
     "data": {
      "text/plain": [
       "tensor([0.4322])"
      ]
     },
     "execution_count": 43,
     "metadata": {},
     "output_type": "execute_result"
    }
   ],
   "source": [
    "a[[[0], [1]]]"
   ]
  },
  {
   "cell_type": "code",
   "execution_count": 46,
   "id": "3b7df131-860b-4163-86f8-0461de541c6d",
   "metadata": {
    "tags": []
   },
   "outputs": [
    {
     "data": {
      "text/plain": [
       "tensor([0, 1, 0, 0])"
      ]
     },
     "execution_count": 46,
     "metadata": {},
     "output_type": "execute_result"
    }
   ],
   "source": [
    "indices = torch.argmax(a, dim=0)\n",
    "indices"
   ]
  },
  {
   "cell_type": "code",
   "execution_count": 51,
   "id": "aa0e168a-ca85-42c3-9456-3ea5d0e13ad9",
   "metadata": {
    "tags": []
   },
   "outputs": [
    {
     "data": {
      "text/plain": [
       "tensor([0.5559, 0.6359, 0.3503, 0.6921])"
      ]
     },
     "execution_count": 51,
     "metadata": {},
     "output_type": "execute_result"
    }
   ],
   "source": [
    "a[indices, torch.arange(a.size(1))]"
   ]
  },
  {
   "cell_type": "code",
   "execution_count": 53,
   "id": "916f0884-906f-4776-a217-0833478a0809",
   "metadata": {
    "tags": []
   },
   "outputs": [
    {
     "data": {
      "text/plain": [
       "tensor([0, 1, 2, 3])"
      ]
     },
     "execution_count": 53,
     "metadata": {},
     "output_type": "execute_result"
    }
   ],
   "source": [
    "torch.arange(a.size(1))"
   ]
  },
  {
   "cell_type": "code",
   "execution_count": null,
   "id": "627a0f89-c847-4979-8776-208e29e8275d",
   "metadata": {},
   "outputs": [],
   "source": []
  },
  {
   "cell_type": "code",
   "execution_count": 64,
   "id": "61979462-96d5-404b-a5ee-d1e8b43aae3f",
   "metadata": {
    "tags": []
   },
   "outputs": [
    {
     "data": {
      "text/plain": [
       "tensor([[[5.9445, 5.9636, 1.7486],\n",
       "         [1.2101, 5.1058, 4.4432],\n",
       "         [9.6727, 6.8322, 5.7573]],\n",
       "\n",
       "        [[1.9854, 9.7991, 0.4793],\n",
       "         [6.3677, 4.3852, 4.4977],\n",
       "         [3.7931, 0.3165, 4.5605]]])"
      ]
     },
     "execution_count": 64,
     "metadata": {},
     "output_type": "execute_result"
    }
   ],
   "source": [
    "# 3 dim\n",
    "a = torch.rand((2, 3, 3)) * 10\n",
    "a"
   ]
  },
  {
   "cell_type": "code",
   "execution_count": 71,
   "id": "cc9b39fe-6a10-4bb3-ab15-d2a2330520e4",
   "metadata": {
    "tags": []
   },
   "outputs": [
    {
     "data": {
      "text/plain": [
       "(tensor([[[5.9445, 9.7991, 1.7486],\n",
       "          [6.3677, 5.1058, 4.4977],\n",
       "          [9.6727, 6.8322, 5.7573]]]),\n",
       " tensor([[[0, 1, 0],\n",
       "          [1, 0, 1],\n",
       "          [0, 0, 0]]]))"
      ]
     },
     "execution_count": 71,
     "metadata": {},
     "output_type": "execute_result"
    }
   ],
   "source": [
    "max_, indices = torch.max(a, dim=0, keepdims=True)\n",
    "max_, indices"
   ]
  },
  {
   "cell_type": "code",
   "execution_count": 79,
   "id": "5917a195-d0e9-488b-9988-ffd1c66b7039",
   "metadata": {
    "tags": []
   },
   "outputs": [
    {
     "data": {
      "text/plain": [
       "tensor([[[5.9445, 9.7991, 1.7486],\n",
       "         [6.3677, 5.1058, 4.4977],\n",
       "         [9.6727, 6.8322, 5.7573]]])"
      ]
     },
     "execution_count": 79,
     "metadata": {},
     "output_type": "execute_result"
    }
   ],
   "source": [
    "torch.gather(a, 0, indices)"
   ]
  },
  {
   "cell_type": "code",
   "execution_count": null,
   "id": "6cbd284c-b829-447a-bdb1-a37ebb2b0dfd",
   "metadata": {},
   "outputs": [],
   "source": []
  },
  {
   "cell_type": "code",
   "execution_count": 82,
   "id": "89ff6dc1-f5af-4d80-a7a4-b6b9390f4bff",
   "metadata": {
    "tags": []
   },
   "outputs": [
    {
     "data": {
      "text/plain": [
       "tensor([[[0.5517, 0.5360, 0.4221],\n",
       "         [0.7487, 0.9577, 0.5994],\n",
       "         [0.3766, 0.7979, 0.8720]],\n",
       "\n",
       "        [[0.4162, 0.5543, 0.0986],\n",
       "         [0.9781, 0.2686, 0.3005],\n",
       "         [0.9106, 0.8513, 0.6105]]])"
      ]
     },
     "execution_count": 82,
     "metadata": {},
     "output_type": "execute_result"
    }
   ],
   "source": [
    "a = torch.rand((2, 3, 3))\n",
    "a"
   ]
  },
  {
   "cell_type": "code",
   "execution_count": 88,
   "id": "7db8d90a-645e-40c1-a2a5-c862caaf76ea",
   "metadata": {
    "tags": []
   },
   "outputs": [
    {
     "data": {
      "text/plain": [
       "tensor([[[0.4162, 0.5543, 0.0986],\n",
       "         [0.9781, 0.2686, 0.3005],\n",
       "         [0.9106, 0.8513, 0.6105]]])"
      ]
     },
     "execution_count": 88,
     "metadata": {},
     "output_type": "execute_result"
    }
   ],
   "source": [
    "a[]"
   ]
  },
  {
   "cell_type": "code",
   "execution_count": null,
   "id": "9b9bb9db-0d5e-4c0a-990b-eb2a3f6c6d15",
   "metadata": {},
   "outputs": [],
   "source": []
  },
  {
   "cell_type": "code",
   "execution_count": 80,
   "id": "fd739d84-01f4-44a8-a56c-b887a8f9a0bf",
   "metadata": {
    "tags": []
   },
   "outputs": [],
   "source": [
    "input = torch.tensor([[1, 2, 3], [4, 5, 6]])\n",
    "index = torch.tensor([[0, 2], [1, 0]])\n",
    "\n",
    "output = torch.gather(input, 1, index)"
   ]
  },
  {
   "cell_type": "code",
   "execution_count": 76,
   "id": "b9a17905-0018-4e94-aca4-dcb9b2351c6a",
   "metadata": {
    "tags": []
   },
   "outputs": [
    {
     "data": {
      "text/plain": [
       "tensor([[1, 3],\n",
       "        [5, 4]])"
      ]
     },
     "execution_count": 76,
     "metadata": {},
     "output_type": "execute_result"
    }
   ],
   "source": [
    "output"
   ]
  },
  {
   "cell_type": "code",
   "execution_count": null,
   "id": "2fc10227-7c6c-4f22-b0ca-581ae68e4aab",
   "metadata": {},
   "outputs": [],
   "source": []
  },
  {
   "cell_type": "code",
   "execution_count": null,
   "id": "c56e741e-6cef-4552-a5a9-864b9b94c4a3",
   "metadata": {},
   "outputs": [],
   "source": []
  },
  {
   "cell_type": "code",
   "execution_count": null,
   "id": "8b121a0f-6fda-4f6c-948b-bdf19b128c02",
   "metadata": {},
   "outputs": [],
   "source": []
  },
  {
   "cell_type": "code",
   "execution_count": 90,
   "id": "031bc6c1-0597-4d68-87b5-9ab02612fd95",
   "metadata": {
    "tags": []
   },
   "outputs": [
    {
     "data": {
      "text/plain": [
       "tensor([[[0.2519, 0.5664, 0.6653],\n",
       "         [0.9189, 0.3980, 0.5378],\n",
       "         [0.9487, 0.7584, 0.5255]],\n",
       "\n",
       "        [[0.4926, 0.6816, 0.1492],\n",
       "         [0.9710, 0.8404, 0.6978],\n",
       "         [0.6151, 0.1344, 0.2134]]])"
      ]
     },
     "execution_count": 90,
     "metadata": {},
     "output_type": "execute_result"
    }
   ],
   "source": [
    "a = torch.rand((2, 3, 3))\n",
    "a"
   ]
  },
  {
   "cell_type": "code",
   "execution_count": 92,
   "id": "34cf21f6-775d-43c3-8662-82e7817cf4f7",
   "metadata": {
    "tags": []
   },
   "outputs": [
    {
     "data": {
      "text/plain": [
       "tensor([[0],\n",
       "        [1]])"
      ]
     },
     "execution_count": 92,
     "metadata": {},
     "output_type": "execute_result"
    }
   ],
   "source": [
    "indices = torch.tensor([[0], [1]])\n",
    "indices"
   ]
  },
  {
   "cell_type": "code",
   "execution_count": 96,
   "id": "736387e9-d8a5-4b80-b42f-7e8d8d9bca11",
   "metadata": {
    "tags": []
   },
   "outputs": [
    {
     "data": {
      "text/plain": [
       "tensor([[[[0.2519, 0.5664, 0.6653]],\n",
       "\n",
       "         [[0.9189, 0.3980, 0.5378]]],\n",
       "\n",
       "\n",
       "        [[[0.4926, 0.6816, 0.1492]],\n",
       "\n",
       "         [[0.9710, 0.8404, 0.6978]]]])"
      ]
     },
     "execution_count": 96,
     "metadata": {},
     "output_type": "execute_result"
    }
   ],
   "source": [
    "# Select rows from tensor 'a' based on indices\n",
    "output = a[torch.arange(a.size(0)).unsqueeze(1), indices]\n",
    "output"
   ]
  },
  {
   "cell_type": "code",
   "execution_count": 103,
   "id": "631d7d4b-9ced-44ab-8343-75338de3fc63",
   "metadata": {
    "tags": []
   },
   "outputs": [
    {
     "data": {
      "text/plain": [
       "tensor([[[0.2519, 0.5664, 0.6653]],\n",
       "\n",
       "        [[0.9710, 0.8404, 0.6978]]])"
      ]
     },
     "execution_count": 103,
     "metadata": {},
     "output_type": "execute_result"
    }
   ],
   "source": [
    "output = a[[[0], [1]], [[0], [1]]]\n",
    "\n",
    "output"
   ]
  },
  {
   "cell_type": "code",
   "execution_count": 95,
   "id": "dd3b471d-1bab-4eb5-882e-798e0c5a7ed3",
   "metadata": {
    "tags": []
   },
   "outputs": [
    {
     "data": {
      "text/plain": [
       "torch.Size([2, 1, 3])"
      ]
     },
     "execution_count": 95,
     "metadata": {},
     "output_type": "execute_result"
    }
   ],
   "source": [
    "output.shape"
   ]
  },
  {
   "cell_type": "code",
   "execution_count": 97,
   "id": "7f1a9aa5-f746-417b-944e-f649384cdd2d",
   "metadata": {
    "tags": []
   },
   "outputs": [
    {
     "data": {
      "text/plain": [
       "tensor([[0],\n",
       "        [1]])"
      ]
     },
     "execution_count": 97,
     "metadata": {},
     "output_type": "execute_result"
    }
   ],
   "source": [
    "torch.arange(a.size(0)).unsqueeze(1)"
   ]
  },
  {
   "cell_type": "code",
   "execution_count": null,
   "id": "b5822808-4756-4fd3-ac7f-3535642c3459",
   "metadata": {},
   "outputs": [],
   "source": [
    "\n"
   ]
  },
  {
   "cell_type": "code",
   "execution_count": null,
   "id": "21b1ef1c-6ae1-4b5a-afd8-504d5557c63f",
   "metadata": {},
   "outputs": [],
   "source": []
  },
  {
   "cell_type": "code",
   "execution_count": null,
   "id": "67f16c34-37ac-42ab-a6cd-52dd5eba37e0",
   "metadata": {},
   "outputs": [],
   "source": []
  },
  {
   "cell_type": "code",
   "execution_count": 186,
   "id": "5211242c-4485-4a0d-912e-aba61c76dc57",
   "metadata": {
    "tags": []
   },
   "outputs": [],
   "source": [
    "a = torch.tensor([[[1],\n",
    "         [0],\n",
    "         [0],\n",
    "         [0]]])"
   ]
  },
  {
   "cell_type": "code",
   "execution_count": 187,
   "id": "c5a3473a-4285-486a-9acb-4f72d1573d57",
   "metadata": {
    "tags": []
   },
   "outputs": [
    {
     "data": {
      "text/plain": [
       "tensor([[[1],\n",
       "         [0],\n",
       "         [0],\n",
       "         [0]]])"
      ]
     },
     "execution_count": 187,
     "metadata": {},
     "output_type": "execute_result"
    }
   ],
   "source": [
    "a"
   ]
  },
  {
   "cell_type": "code",
   "execution_count": 188,
   "id": "483a7f8d-c3c7-402e-83d5-5fd9f0d9f635",
   "metadata": {
    "tags": []
   },
   "outputs": [
    {
     "data": {
      "text/plain": [
       "torch.Size([1, 4, 1])"
      ]
     },
     "execution_count": 188,
     "metadata": {},
     "output_type": "execute_result"
    }
   ],
   "source": [
    "a.shape"
   ]
  },
  {
   "cell_type": "code",
   "execution_count": null,
   "id": "b9d608e7-950a-472b-af97-f2729af0bd12",
   "metadata": {
    "tags": []
   },
   "outputs": [],
   "source": []
  },
  {
   "cell_type": "code",
   "execution_count": 199,
   "id": "2da61f5d-ee27-4407-9a25-74c8106a65e8",
   "metadata": {
    "tags": []
   },
   "outputs": [],
   "source": [
    "mask = torch.zeros((2, 4, 2))"
   ]
  },
  {
   "cell_type": "code",
   "execution_count": 200,
   "id": "154ba01b-3245-4c63-9dc2-8a522b814010",
   "metadata": {
    "tags": []
   },
   "outputs": [
    {
     "data": {
      "text/plain": [
       "tensor([[[0., 0.],\n",
       "         [0., 0.],\n",
       "         [0., 0.],\n",
       "         [0., 0.]],\n",
       "\n",
       "        [[0., 0.],\n",
       "         [0., 0.],\n",
       "         [0., 0.],\n",
       "         [0., 0.]]])"
      ]
     },
     "execution_count": 200,
     "metadata": {},
     "output_type": "execute_result"
    }
   ],
   "source": [
    "mask"
   ]
  },
  {
   "cell_type": "code",
   "execution_count": 201,
   "id": "79f8d2cd-c74e-467d-b238-e4ced4189d56",
   "metadata": {
    "tags": []
   },
   "outputs": [],
   "source": [
    "mask = torch.scatter(mask, 2, a, 1)"
   ]
  },
  {
   "cell_type": "code",
   "execution_count": 202,
   "id": "4948daf1-6819-4b16-b155-c10c51a4ee6a",
   "metadata": {
    "tags": []
   },
   "outputs": [],
   "source": [
    "mask = mask.to(torch.bool)"
   ]
  },
  {
   "cell_type": "code",
   "execution_count": 203,
   "id": "d9637cf8-13f5-4d81-8aaf-e8ab6cf5d93f",
   "metadata": {
    "tags": []
   },
   "outputs": [
    {
     "data": {
      "text/plain": [
       "torch.Size([2, 4, 2])"
      ]
     },
     "execution_count": 203,
     "metadata": {},
     "output_type": "execute_result"
    }
   ],
   "source": [
    "mask.shape"
   ]
  },
  {
   "cell_type": "code",
   "execution_count": 204,
   "id": "5cfc5ffa-37f0-4f3a-9ca9-c7b3b4c7f3fd",
   "metadata": {
    "tags": []
   },
   "outputs": [
    {
     "data": {
      "text/plain": [
       "tensor([[[False,  True],\n",
       "         [ True, False],\n",
       "         [ True, False],\n",
       "         [ True, False]],\n",
       "\n",
       "        [[False, False],\n",
       "         [False, False],\n",
       "         [False, False],\n",
       "         [False, False]]])"
      ]
     },
     "execution_count": 204,
     "metadata": {},
     "output_type": "execute_result"
    }
   ],
   "source": [
    "mask"
   ]
  },
  {
   "cell_type": "code",
   "execution_count": 207,
   "id": "c28e54fc-eeb9-4d1a-99ad-657435b14705",
   "metadata": {
    "tags": []
   },
   "outputs": [
    {
     "data": {
      "text/plain": [
       "tensor([[[[0.1417, 0.7151, 0.6690, 0.3251],\n",
       "          [0.0235, 0.2930, 0.9365, 0.0396]],\n",
       "\n",
       "         [[0.9811, 0.8005, 0.1042, 0.5879],\n",
       "          [0.6985, 0.4576, 0.0693, 0.7841]],\n",
       "\n",
       "         [[0.8053, 0.9804, 0.6434, 0.7365],\n",
       "          [0.9275, 0.4729, 0.5870, 0.3247]],\n",
       "\n",
       "         [[0.8115, 0.1752, 0.6965, 0.8973],\n",
       "          [0.4066, 0.3148, 0.6798, 0.3301]]],\n",
       "\n",
       "\n",
       "        [[[0.6101, 0.1328, 0.5040, 0.7107],\n",
       "          [0.9991, 0.4564, 0.2482, 0.3644]],\n",
       "\n",
       "         [[0.2259, 0.1610, 0.3701, 0.5265],\n",
       "          [0.5559, 0.9668, 0.3575, 0.5897]],\n",
       "\n",
       "         [[0.8984, 0.2974, 0.8993, 0.0938],\n",
       "          [0.6954, 0.7260, 0.8383, 0.4805]],\n",
       "\n",
       "         [[0.1635, 0.5466, 0.1174, 0.9500],\n",
       "          [0.5112, 0.6315, 0.3939, 0.7213]]]])"
      ]
     },
     "execution_count": 207,
     "metadata": {},
     "output_type": "execute_result"
    }
   ],
   "source": [
    "t = torch.rand((2, 4, 2, 4))\n",
    "t"
   ]
  },
  {
   "cell_type": "code",
   "execution_count": 209,
   "id": "c73f9574-aa43-423f-a51d-a9bc5130e01a",
   "metadata": {
    "tags": []
   },
   "outputs": [
    {
     "ename": "TypeError",
     "evalue": "only integer tensors of a single element can be converted to an index",
     "output_type": "error",
     "traceback": [
      "\u001b[0;31m---------------------------------------------------------------------------\u001b[0m",
      "\u001b[0;31mTypeError\u001b[0m                                 Traceback (most recent call last)",
      "Cell \u001b[0;32mIn[209], line 1\u001b[0m\n\u001b[0;32m----> 1\u001b[0m \u001b[43mt\u001b[49m\u001b[43m[\u001b[49m\u001b[43m[\u001b[49m\u001b[43m[\u001b[49m\u001b[43mmask\u001b[49m\u001b[43m]\u001b[49m\u001b[43m]\u001b[49m\u001b[43m]\u001b[49m\n",
      "\u001b[0;31mTypeError\u001b[0m: only integer tensors of a single element can be converted to an index"
     ]
    }
   ],
   "source": [
    "t[[mask]]"
   ]
  },
  {
   "cell_type": "code",
   "execution_count": 151,
   "id": "f7dd4998-3683-48c4-bc44-d9461cd8f116",
   "metadata": {
    "tags": []
   },
   "outputs": [],
   "source": []
  },
  {
   "cell_type": "code",
   "execution_count": 120,
   "id": "9e079a9f-e940-4c58-a926-a4e12cfa951e",
   "metadata": {
    "tags": []
   },
   "outputs": [
    {
     "data": {
      "text/plain": [
       "tensor([0., 1., 0., 1., 0., 1., 0., 1.])"
      ]
     },
     "execution_count": 120,
     "metadata": {},
     "output_type": "execute_result"
    }
   ],
   "source": [
    "mask"
   ]
  },
  {
   "cell_type": "code",
   "execution_count": 124,
   "id": "cd9abee1-c08c-4c56-bb42-4e1d7043b2b0",
   "metadata": {
    "tags": []
   },
   "outputs": [
    {
     "data": {
      "text/plain": [
       "tensor([0.4276, 0.9118, 0.1684, 0.6855])"
      ]
     },
     "execution_count": 124,
     "metadata": {},
     "output_type": "execute_result"
    }
   ],
   "source": [
    "torch.rand(8)[mask.to(torch.bool)]"
   ]
  },
  {
   "cell_type": "code",
   "execution_count": null,
   "id": "afbb0656-44dc-4227-b556-541a9431dc9c",
   "metadata": {},
   "outputs": [],
   "source": []
  },
  {
   "cell_type": "code",
   "execution_count": 183,
   "id": "45db137e-2d5a-4de6-9e4d-a3fad177122b",
   "metadata": {
    "tags": []
   },
   "outputs": [],
   "source": [
    "t = torch.tensor([[1, 2], [3, 4]])"
   ]
  },
  {
   "cell_type": "code",
   "execution_count": 185,
   "id": "cc1faf40-24ae-440d-a0b6-2844d35bf482",
   "metadata": {
    "tags": []
   },
   "outputs": [
    {
     "data": {
      "text/plain": [
       "tensor([[3, 4]])"
      ]
     },
     "execution_count": 185,
     "metadata": {},
     "output_type": "execute_result"
    }
   ],
   "source": [
    "t[[False, True]]"
   ]
  },
  {
   "cell_type": "code",
   "execution_count": null,
   "id": "63f146ca-207a-4d80-820d-5b981c1c10ba",
   "metadata": {},
   "outputs": [],
   "source": []
  },
  {
   "cell_type": "code",
   "execution_count": null,
   "id": "9a349a87-1cd3-42f7-90ea-4159355c804a",
   "metadata": {},
   "outputs": [],
   "source": []
  },
  {
   "cell_type": "code",
   "execution_count": null,
   "id": "c0fd66c6-8f77-414b-a443-6c679a4abad6",
   "metadata": {},
   "outputs": [],
   "source": []
  },
  {
   "cell_type": "code",
   "execution_count": 211,
   "id": "cd070934-4193-4242-acf7-04b25d4e73b9",
   "metadata": {
    "tags": []
   },
   "outputs": [
    {
     "data": {
      "text/plain": [
       "tensor([[[0.9619, 0.4853, 0.0336],\n",
       "         [0.3550, 0.6602, 0.9758]]])"
      ]
     },
     "execution_count": 211,
     "metadata": {},
     "output_type": "execute_result"
    }
   ],
   "source": [
    "b = torch.rand((1, 2, 3))\n",
    "b"
   ]
  },
  {
   "cell_type": "code",
   "execution_count": 212,
   "id": "c9522595-a675-4974-b5d0-419f6557d21b",
   "metadata": {
    "tags": []
   },
   "outputs": [],
   "source": [
    "mask = torch.tensor([\n",
    "    [False, True]\n",
    "])"
   ]
  },
  {
   "cell_type": "code",
   "execution_count": 213,
   "id": "089575b9-c797-4fae-b4b5-71365fc48b47",
   "metadata": {
    "tags": []
   },
   "outputs": [
    {
     "data": {
      "text/plain": [
       "tensor([[0.3550, 0.6602, 0.9758]])"
      ]
     },
     "execution_count": 213,
     "metadata": {},
     "output_type": "execute_result"
    }
   ],
   "source": [
    "b[mask]"
   ]
  },
  {
   "cell_type": "code",
   "execution_count": 215,
   "id": "28d063da-a3f0-4b3e-b14f-4e96ab3fe7ae",
   "metadata": {
    "tags": []
   },
   "outputs": [
    {
     "data": {
      "text/plain": [
       "tensor([[[[0.0240, 0.4572],\n",
       "          [0.6506, 0.8826]]]])"
      ]
     },
     "execution_count": 215,
     "metadata": {},
     "output_type": "execute_result"
    }
   ],
   "source": [
    "b = torch.rand((1, 1, 2, 2))\n",
    "b"
   ]
  },
  {
   "cell_type": "code",
   "execution_count": 216,
   "id": "0488f2b9-d8f2-4e63-bb0a-7467013f8549",
   "metadata": {
    "tags": []
   },
   "outputs": [],
   "source": [
    "mask = torch.tensor([])\n"
   ]
  },
  {
   "cell_type": "code",
   "execution_count": null,
   "id": "bf3ccfa2-eed9-41e3-a4f9-c91b2ca3615c",
   "metadata": {},
   "outputs": [],
   "source": []
  },
  {
   "cell_type": "code",
   "execution_count": null,
   "id": "0b7cf317-3dca-47d4-8270-02593e791970",
   "metadata": {},
   "outputs": [],
   "source": []
  },
  {
   "cell_type": "code",
   "execution_count": 219,
   "id": "f87c5764-0d33-47c6-aaf2-2f999db38b64",
   "metadata": {
    "tags": []
   },
   "outputs": [
    {
     "data": {
      "text/plain": [
       "tensor([1, 4])"
      ]
     },
     "execution_count": 219,
     "metadata": {},
     "output_type": "execute_result"
    }
   ],
   "source": [
    "a = torch.tensor([[1, 2], [3, 4]])\n",
    "mask = torch.tensor([[True, False], [False, True]])\n",
    "a[mask]"
   ]
  },
  {
   "cell_type": "code",
   "execution_count": null,
   "id": "e4723fe2-387c-480d-a266-c499fe5be391",
   "metadata": {},
   "outputs": [],
   "source": []
  }
 ],
 "metadata": {
  "kernelspec": {
   "display_name": "Python 3 (ipykernel)",
   "language": "python",
   "name": "python3"
  },
  "language_info": {
   "codemirror_mode": {
    "name": "ipython",
    "version": 3
   },
   "file_extension": ".py",
   "mimetype": "text/x-python",
   "name": "python",
   "nbconvert_exporter": "python",
   "pygments_lexer": "ipython3",
   "version": "3.9.16"
  }
 },
 "nbformat": 4,
 "nbformat_minor": 5
}
