{
 "cells": [
  {
   "cell_type": "code",
   "execution_count": 18,
   "id": "231827c0-c94d-42ab-bce0-61b5943cc207",
   "metadata": {},
   "outputs": [],
   "source": [
    "import torch\n",
    "from torch.optim.lr_scheduler import MultiStepLR\n",
    "import sys\n",
    "\n",
    "sys.path.append('../')\n",
    "from model import ResNet18YOLOv1"
   ]
  },
  {
   "cell_type": "code",
   "execution_count": 19,
   "id": "86be3bf4-fb07-4d33-80b6-03f478598229",
   "metadata": {
    "tags": []
   },
   "outputs": [],
   "source": [
    "model = ResNet18YOLOv1()"
   ]
  },
  {
   "cell_type": "code",
   "execution_count": 20,
   "id": "0713acbd-b06d-4e3f-b7c8-1b19876b3a6f",
   "metadata": {
    "tags": []
   },
   "outputs": [],
   "source": [
    "optimizer = torch.optim.SGD(model.parameters(), lr=1e-2)"
   ]
  },
  {
   "cell_type": "code",
   "execution_count": 21,
   "id": "5ee4f450-dd39-42bf-858f-3a15c42c0ccf",
   "metadata": {
    "tags": []
   },
   "outputs": [],
   "source": [
    "scheduler = MultiStepLR(optimizer,\n",
    "                        milestones=[5, 10],\n",
    "                        gamma=0.1\n",
    ")"
   ]
  },
  {
   "cell_type": "code",
   "execution_count": 22,
   "id": "7d335752-3e4b-447f-9a5f-daa7f65d8ed5",
   "metadata": {
    "tags": []
   },
   "outputs": [
    {
     "name": "stdout",
     "output_type": "stream",
     "text": [
      "0.01\n",
      "0.01\n",
      "0.01\n",
      "0.01\n",
      "0.01\n",
      "0.001\n",
      "0.001\n",
      "0.001\n",
      "0.001\n",
      "0.001\n",
      "0.0001\n",
      "0.0001\n",
      "0.0001\n",
      "0.0001\n",
      "0.0001\n"
     ]
    }
   ],
   "source": [
    "for epoch in range(15):\n",
    "    lr = optimizer.param_groups[0][\"lr\"]\n",
    "    print(lr)\n",
    "    optimizer.step()\n",
    "    scheduler.step()"
   ]
  },
  {
   "cell_type": "code",
   "execution_count": null,
   "id": "9067a509-9456-44a7-a94f-5c0e8693dfbc",
   "metadata": {},
   "outputs": [],
   "source": []
  }
 ],
 "metadata": {
  "kernelspec": {
   "display_name": "Python 3 (ipykernel)",
   "language": "python",
   "name": "python3"
  },
  "language_info": {
   "codemirror_mode": {
    "name": "ipython",
    "version": 3
   },
   "file_extension": ".py",
   "mimetype": "text/x-python",
   "name": "python",
   "nbconvert_exporter": "python",
   "pygments_lexer": "ipython3",
   "version": "3.9.16"
  }
 },
 "nbformat": 4,
 "nbformat_minor": 5
}
