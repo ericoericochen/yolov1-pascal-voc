{
 "cells": [
  {
   "cell_type": "code",
   "execution_count": 2,
   "id": "3ca90934-25ec-4ef4-a880-de928efd8d85",
   "metadata": {
    "tags": []
   },
   "outputs": [],
   "source": [
    "import torch\n",
    "from torchvision.ops import nms\n"
   ]
  },
  {
   "cell_type": "code",
   "execution_count": 286,
   "id": "7d3aeee0-f38d-4fae-8b3a-58e3cf1326ae",
   "metadata": {
    "tags": []
   },
   "outputs": [],
   "source": [
    "def non_maximum_suppression(pred, iou_threshold=0.5, C=20):\n",
    "    \"\"\"\n",
    "    pred: list of processed yolo output predictions (num boxes, 7)\n",
    "    (max_confidence, x1, y1, x2, y2, max_probability, class_idx)\n",
    "    \"\"\"\n",
    "    nms_boxes = []\n",
    "    \n",
    "    # perform nms on each class independently\n",
    "    for i in range(C):\n",
    "        print(i)\n",
    "        # get all predicted boxes belonging in this class\n",
    "        boxes = pred[pred[:, -1] == i]\n",
    "        \n",
    "        if boxes.size(0) == 0:\n",
    "            continue\n",
    "            \n",
    "        xyxy = boxes[:, 1:5]\n",
    "        scores = boxes[:, 0]\n",
    "        nms_indices = nms(xyxy, scores, iou_threshold=iou_threshold)\n",
    "        nms_bboxes = boxes[nms_indices]\n",
    "        \n",
    "        print(nms_bboxes.shape)\n",
    "        nms_boxes.append(nms_bboxes)\n",
    "        \n",
    "    nms_boxes = torch.cat(nms_boxes)\n",
    "    print(nms_boxes.shape)\n",
    "        \n",
    "    return nms_boxes"
   ]
  },
  {
   "cell_type": "code",
   "execution_count": 287,
   "id": "cf0a73da-67ae-4b67-ab89-053f98827b90",
   "metadata": {
    "tags": []
   },
   "outputs": [],
   "source": [
    "def process_yolo_output(output, \n",
    "                        confidence_threshold=0.5,\n",
    "                        iou_threshold=0.5, S=7, B=2, C=20):\n",
    "    \"\"\"\n",
    "    pred: (N, S, S, 5B+C)\n",
    "    Process output of YOLO\n",
    "    \n",
    "    Returns: N x Boxes x tensor(confidence, x1, y1, x2, y2, probability, class)\n",
    "    \"\"\"\n",
    "    N = output.size(0)\n",
    "    assert output.shape == torch.Size([N, S, S, 5 * B + C])\n",
    "    \n",
    "    processed_output = []\n",
    "    output = output.view(-1, S * S, 5 * B + C)\n",
    "    \n",
    "    for i in range(N):\n",
    "        bboxes = []\n",
    "        for cell_idx in range(S * S):\n",
    "            yolo = output[i][cell_idx] # (5*B+C)\n",
    "            boxes = yolo[:-C]\n",
    "            probabilities = yolo[-C:]\n",
    "            \n",
    "            # select responsible box (box with the highest confidence)\n",
    "            boxes = boxes.view(B, -1)            \n",
    "            confidences = boxes[:, 0]\n",
    "            max_confidence, max_confidence_idx = confidences.max(0) \n",
    "            responsible_box = boxes[max_confidence_idx]\n",
    "            \n",
    "            if max_confidence < confidence_threshold:\n",
    "                continue\n",
    "            \n",
    "            # convert xywh to xyxy\n",
    "            xywh = responsible_box[1:]\n",
    "            gx = cell_idx % S\n",
    "            gy = cell_idx // S\n",
    "            \n",
    "            x = xywh[0]\n",
    "            y = xywh[1]\n",
    "            w = xywh[2]\n",
    "            h = xywh[3]\n",
    "            \n",
    "            x_c = (gx + x) / S\n",
    "            y_c = (gy + y) / S\n",
    "\n",
    "            \n",
    "            x1 = x_c - w / 2\n",
    "            y1 = y_c - h / 2\n",
    "            x2 = x_c + w / 2\n",
    "            y2 = y_c + h / 2\n",
    "            \n",
    "            # get class idx + probability\n",
    "            max_probability, class_idx = probabilities.max(0)\n",
    "            \n",
    "            box = torch.stack([max_confidence, x1, y1, x2, y2, max_probability, class_idx])\n",
    "            box[1:5] = box[1:5].clamp(0, 1) # make sure xys are between 0 and 1\n",
    "            bboxes.append(box)\n",
    "        \n",
    "        bboxes = torch.stack(bboxes)\n",
    "        \n",
    "        # perform NMS on the bboxes\n",
    "        nms_bboxes = non_maximum_suppression(bboxes, iou_threshold=iou_threshold, C=C)    \n",
    "        processed_output.append(nms_bboxes)\n",
    "            \n",
    "    return processed_output"
   ]
  },
  {
   "cell_type": "code",
   "execution_count": 292,
   "id": "a63d16d1-9d4e-4452-be98-b8c3e879b23d",
   "metadata": {
    "tags": []
   },
   "outputs": [],
   "source": [
    "# pred = torch.tensor([\n",
    "#     [[[1, 0.5, 0.5, 0.1, 0.1, 0.8, 0.5, 0.5, 0.1, 0.1, 0.3, 0.7], [1, 0.5, 0.5, 0.1, 0.1, 0.8, 0.5, 0.5, 0.1, 0.1, 0.3, 0.7]],\n",
    "#      [[1, 0.5, 0.5, 0.1, 0.1, 0.8, 0.5, 0.5, 0.1, 0.1, 0.3, 0.7], [1, 0.5, 0.5, 0.1, 0.1, 0.8, 0.5, 0.5, 0.1, 0.1, 0.3, 0.7]]]\n",
    "# ])\n",
    "\n",
    "pred = torch.tensor([\n",
    "    [[[1, 0.5, 0.5, 1, 1, 0.8, 0.5, 0.5, 0.1, 0.1, 0.3, 0.7], [1, 0.5, 0.5, 0.1, 0.1, 0, 0.5, 0.5, 0.1, 0.1, 0.8, 0.2]],\n",
    "     [[0, 0.5, 0.5, 0.1, 0.1, 0, 0.5, 0.5, 0.1, 0.1, 0.3, 0.7], [1, 0, 0, 1, 1, 0.8, 0.5, 0.5, 0.1, 0.1, 0.3, 0.7]]]\n",
    "])"
   ]
  },
  {
   "cell_type": "code",
   "execution_count": 293,
   "id": "1c058ecd-6fb6-4e67-a97b-09e74bad2cc9",
   "metadata": {
    "tags": []
   },
   "outputs": [
    {
     "data": {
      "text/plain": [
       "torch.Size([1, 2, 2, 12])"
      ]
     },
     "execution_count": 293,
     "metadata": {},
     "output_type": "execute_result"
    }
   ],
   "source": [
    "pred.shape"
   ]
  },
  {
   "cell_type": "code",
   "execution_count": 294,
   "id": "30b51806-a013-4297-a6e6-477ba1315327",
   "metadata": {
    "tags": []
   },
   "outputs": [
    {
     "name": "stdout",
     "output_type": "stream",
     "text": [
      "NMS\n",
      "0\n",
      "torch.Size([1, 7])\n",
      "1\n",
      "torch.Size([1, 7])\n",
      "torch.Size([2, 7])\n",
      "tensor([[1.0000, 0.7000, 0.2000, 0.8000, 0.3000, 0.8000, 0.0000],\n",
      "        [1.0000, 0.0000, 0.0000, 0.7500, 0.7500, 0.7000, 1.0000]])\n"
     ]
    },
    {
     "data": {
      "text/plain": [
       "[tensor([[1.0000, 0.7000, 0.2000, 0.8000, 0.3000, 0.8000, 0.0000],\n",
       "         [1.0000, 0.0000, 0.0000, 0.7500, 0.7500, 0.7000, 1.0000]])]"
      ]
     },
     "execution_count": 294,
     "metadata": {},
     "output_type": "execute_result"
    }
   ],
   "source": [
    "process_yolo_output(pred, S=2, B=2, C=2)"
   ]
  },
  {
   "cell_type": "code",
   "execution_count": 291,
   "id": "89938bdd-6111-4965-ab86-be6f10d98876",
   "metadata": {
    "tags": []
   },
   "outputs": [],
   "source": [
    "# def process_yolo_target(target, S=7, C=20):\n",
    "#     return process_yolo_output(target, S=S, B=1, C=C)"
   ]
  },
  {
   "cell_type": "code",
   "execution_count": null,
   "id": "411380c2-410a-47d4-9de4-31582b20d0e3",
   "metadata": {},
   "outputs": [],
   "source": []
  },
  {
   "cell_type": "code",
   "execution_count": 169,
   "id": "de36cbfe-b5cf-4fdf-aa20-b91d404a6891",
   "metadata": {
    "tags": []
   },
   "outputs": [],
   "source": []
  },
  {
   "cell_type": "code",
   "execution_count": null,
   "id": "a2f3aa42-a024-48de-9156-de807f8ce8c5",
   "metadata": {},
   "outputs": [],
   "source": []
  },
  {
   "cell_type": "code",
   "execution_count": null,
   "id": "50b23cbc-5d9b-4cb1-8daa-b1bbe111aa68",
   "metadata": {},
   "outputs": [],
   "source": []
  },
  {
   "cell_type": "code",
   "execution_count": null,
   "id": "68841093-c4ac-41a0-9c58-08f57b40a288",
   "metadata": {},
   "outputs": [],
   "source": [
    "def compute_average_precision(pred, target, iou_threshold=0.5):\n",
    "    pass"
   ]
  },
  {
   "cell_type": "code",
   "execution_count": 18,
   "id": "4b67f2f3-3c10-4fd5-90e9-212ddf9fbf5d",
   "metadata": {
    "tags": []
   },
   "outputs": [],
   "source": [
    "def mean_average_precision(pred, target, iou_threshold=0.5):\n",
    "    pass"
   ]
  },
  {
   "cell_type": "code",
   "execution_count": null,
   "id": "0cd5de4f-9e23-447d-8281-44734584e2d1",
   "metadata": {},
   "outputs": [],
   "source": []
  }
 ],
 "metadata": {
  "kernelspec": {
   "display_name": "Python 3 (ipykernel)",
   "language": "python",
   "name": "python3"
  },
  "language_info": {
   "codemirror_mode": {
    "name": "ipython",
    "version": 3
   },
   "file_extension": ".py",
   "mimetype": "text/x-python",
   "name": "python",
   "nbconvert_exporter": "python",
   "pygments_lexer": "ipython3",
   "version": "3.9.16"
  }
 },
 "nbformat": 4,
 "nbformat_minor": 5
}
