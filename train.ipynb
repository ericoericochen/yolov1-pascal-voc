{
 "cells": [
  {
   "cell_type": "code",
   "execution_count": 1,
   "id": "b7f27c9d-d62d-4bf4-aea7-172072cf07a8",
   "metadata": {
    "tags": []
   },
   "outputs": [],
   "source": [
    "%load_ext autoreload\n",
    "%autoreload 2"
   ]
  },
  {
   "cell_type": "code",
   "execution_count": 1,
   "id": "9b302ee7",
   "metadata": {
    "tags": []
   },
   "outputs": [],
   "source": [
    "import torch\n",
    "from torch.utils.data import DataLoader\n",
    "from torch.optim.lr_scheduler import MultiStepLR\n",
    "import torchvision\n",
    "import matplotlib.pyplot as plt\n",
    "import dataset\n",
    "from model import ResNet18YOLOv1\n",
    "from loss import YOLOv1Loss\n",
    "from tqdm.auto import tqdm"
   ]
  },
  {
   "cell_type": "markdown",
   "id": "4ecbed67-d7f8-4c72-9cfa-429f38b82556",
   "metadata": {
    "tags": []
   },
   "source": [
    "# About\n",
    "This is an implementation of YOLOv1 from ***You Only Look Once: Unified, Real-Time Object Detection by Joseph Redmon, Santosh Divvala, Ross Girshick, and Ali Firhadi.*** Object detection is figuring out what objects are in an image and where they are. Another way to look at this problem is how can we write a computer program that draws bounding boxes around objects and predicts what kind of objects they are. YOLO solves this problem and does it super fast, like state of the art fast!\n",
    "\n",
    "Let's talk about R-CNN, the predecessor to YOLO. It proposed regions, ran a classifier on every region, and did some post-processing to produce the final result. In simple language this translates to:\n",
    "1. Lemme draw a lot of bounding boxes where I think objects are\n",
    "2. Lemme figure out what are in the bounding boxes I drew\n",
    "3. Ok, I drew too many bounding boxes, lemme remove most of them and keep the important ones\n",
    "\n",
    "This is a lot of steps. What YOLO does instead is ***unified detection***. Unified detection combines the different components of object detection (where are the objects and what kind of objects are they) into one Convolutional Neural Network. You give it an image and in one swoop, it tells you exactly that.\n",
    "\n",
    "Here's how it does it:\n",
    "1. Divide the image into a SxS grid\n",
    "2. Each cell in the grid predicts B bounding boxes and C class probabilities (what it thinks the object is)\n",
    "\n",
    "We represent bounding boxes with 5 numbers: x, y, w, h, p.\n",
    "- (x, y): center of the bounding box\n",
    "- w: width\n",
    "- h: height\n",
    "- p: confidence (a measure of how confident we are that this box captures an object and matches the ground truth)\n",
    "\n",
    "Accordingly, YOLOv1 produces a SxSx(5B+C) tensor. Each cell predicts B bounding boxes, how do we choose which one is the \"true\" predictor? How do we measure how good our bounding box and classification predictions are? \n",
    "\n",
    "We check which bounding box has the greatest overlap (IOU: Intersection Over Union) with the ground truth and choose that one as a predictor. We use this loss function to measure the \"goodness\" of our predictions:\n",
    "\n",
    "![yolo loss function](https://i.stack.imgur.com/IddFu.png)\n",
    "\n",
    "On a high level, it is the squared error between our prediction and the ground truth. "
   ]
  },
  {
   "cell_type": "markdown",
   "id": "2189430c-7b31-498f-8498-e5254ba79dc4",
   "metadata": {
    "tags": []
   },
   "source": [
    "# PASCAL VOC 2007 Dataset"
   ]
  },
  {
   "cell_type": "markdown",
   "id": "9ff97fac-bdec-4ce3-b2d6-a4d6a7945642",
   "metadata": {},
   "source": [
    "PASCAL VOC Detection Dataset contains annotated images with 20 labelled classes and bounding boxes. There are 2,501 images in the training set, 2,510 images in the validation set, and 4,952 images in the test set."
   ]
  },
  {
   "cell_type": "code",
   "execution_count": 2,
   "id": "5525f8a3-d645-45ea-b44c-9f1ca9ab6c9b",
   "metadata": {
    "tags": []
   },
   "outputs": [],
   "source": [
    "# original dataset\n",
    "pascal_voc_train = torchvision.datasets.VOCDetection(\n",
    "    root=\"data\",\n",
    "    year=\"2007\",\n",
    "    image_set=\"train\",\n",
    "    download=False\n",
    ")\n",
    "\n",
    "pascal_voc_val = torchvision.datasets.VOCDetection(\n",
    "    root=\"data\",\n",
    "    year=\"2007\",\n",
    "    image_set=\"val\",\n",
    "    download=False\n",
    ")\n",
    "\n",
    "pascal_voc_test = torchvision.datasets.VOCDetection(\n",
    "    root=\"data\",\n",
    "    year=\"2007\",\n",
    "    image_set=\"test\",\n",
    "    download=False\n",
    ")"
   ]
  },
  {
   "cell_type": "code",
   "execution_count": 3,
   "id": "11520045",
   "metadata": {
    "tags": []
   },
   "outputs": [
    {
     "name": "stdout",
     "output_type": "stream",
     "text": [
      "TRANSFORMING PASCAL VOC\n",
      "TRANSFORMING PASCAL VOC\n",
      "TRANSFORMING PASCAL VOC\n"
     ]
    }
   ],
   "source": [
    "# augment dataset for YOLOv1: resize and normalize image and convert bounding boxes from annotations to tensors\n",
    "voc_train = dataset.PascalVOC(pascal_voc=pascal_voc_train)\n",
    "voc_val = dataset.PascalVOC(pascal_voc=pascal_voc_val)\n",
    "voc_test = dataset.PascalVOC(pascal_voc=pascal_voc_test)"
   ]
  },
  {
   "cell_type": "code",
   "execution_count": 4,
   "id": "1abb4f1f",
   "metadata": {
    "tags": []
   },
   "outputs": [],
   "source": [
    "BATCH_SIZE = 64"
   ]
  },
  {
   "cell_type": "code",
   "execution_count": 5,
   "id": "a8674b35",
   "metadata": {
    "tags": []
   },
   "outputs": [],
   "source": [
    "# train_dataloader = DataLoader(voc_train, batch_size=BATCH_SIZE, shuffle=True)\n",
    "# val_dataloader = DataLoader(voc_val, batch_size=BATCH_SIZE, shuffle=True)\n",
    "# test_dataloader = DataLoader(voc_test, batch_size=BATCH_SIZE, shuffle=True)\n",
    "\n",
    "train_dataloader = DataLoader(voc_train, batch_size=BATCH_SIZE, shuffle=False)\n",
    "val_dataloader = DataLoader(voc_val, batch_size=BATCH_SIZE, shuffle=False)\n",
    "test_dataloader = DataLoader(voc_test, batch_size=BATCH_SIZE, shuffle=False)"
   ]
  },
  {
   "cell_type": "markdown",
   "id": "b831392b-941b-4c64-86fa-a23bf3c558f5",
   "metadata": {
    "tags": []
   },
   "source": [
    "# Training"
   ]
  },
  {
   "cell_type": "markdown",
   "id": "bf5f716d-75e5-4367-9fdf-fe1843843bd5",
   "metadata": {
    "tags": []
   },
   "source": [
    "## Device"
   ]
  },
  {
   "cell_type": "code",
   "execution_count": 6,
   "id": "5c323bd4-63e6-441d-bd8e-65b404122ba3",
   "metadata": {
    "tags": []
   },
   "outputs": [
    {
     "data": {
      "text/plain": [
       "device(type='mps')"
      ]
     },
     "execution_count": 6,
     "metadata": {},
     "output_type": "execute_result"
    }
   ],
   "source": [
    "DEVICE = \"cpu\"\n",
    "\n",
    "if torch.cuda.is_available():\n",
    "    DEVICE = torch.device(\"cuda\")\n",
    "if torch.backends.mps.is_available() and torch.backends.mps.is_built():\n",
    "    DEVICE = torch.device(\"mps\")\n",
    "\n",
    "DEVICE"
   ]
  },
  {
   "cell_type": "markdown",
   "id": "5065e90d-ef48-4244-92e9-2553e44518ce",
   "metadata": {
    "tags": []
   },
   "source": [
    "## Hyperparameters\n",
    "- S: dimensions of SxS grid\n",
    "- B: number of bounding boxes predicted per cell\n",
    "- C: number of classes"
   ]
  },
  {
   "cell_type": "code",
   "execution_count": 7,
   "id": "2f9313e8-6e96-4d4a-8dd6-98d56df27ad4",
   "metadata": {
    "tags": []
   },
   "outputs": [],
   "source": [
    "S = 7\n",
    "B = 2\n",
    "C = 20\n",
    "lambda_coord = 5.0\n",
    "lambda_noobj = 0.5"
   ]
  },
  {
   "cell_type": "markdown",
   "id": "254ef8df-55aa-4f2d-8a6b-805f5ed1b276",
   "metadata": {
    "tags": []
   },
   "source": [
    "## Model\n",
    "ResNet18 convolutional layers pretrained on ImageNet with 2 feedforward layers outputting a (N x S x S x (5B + C)) tensor."
   ]
  },
  {
   "cell_type": "code",
   "execution_count": 81,
   "id": "8400c085-8bac-4b61-b13d-3b100a6f7c17",
   "metadata": {
    "tags": []
   },
   "outputs": [],
   "source": [
    "yolo = ResNet18YOLOv1(S=S, B=B, C=C).to(DEVICE)"
   ]
  },
  {
   "cell_type": "markdown",
   "id": "45afc591-7cce-4066-903d-60e436c74b58",
   "metadata": {
    "tags": []
   },
   "source": [
    "## Loss + Optimizer\n",
    "![yolo loss function](https://i.stack.imgur.com/IddFu.png)\n",
    "\n",
    "We use stochastic gradient descent with a learning rate of 1e-3, weight decay (L2 regularization) of 0.0005, and momentum of 0.9."
   ]
  },
  {
   "cell_type": "code",
   "execution_count": 82,
   "id": "d36287be-210a-452c-bf59-3874c2cb6681",
   "metadata": {
    "tags": []
   },
   "outputs": [],
   "source": [
    "yolo_loss = YOLOv1Loss(S=S, B=B, C=C, lambda_coord=lambda_coord, lambda_noobj=lambda_noobj)"
   ]
  },
  {
   "cell_type": "markdown",
   "id": "8cbbfadb-3e8d-468e-9695-0e6b67b65f20",
   "metadata": {},
   "source": [
    "## Train\n",
    "Train model with a learning rate of 1e-3 for the first few epochs, raise learning rate to 1e-2 and train for 75 epochs, then lower to 1e-3 for 30 epochs, and finally 1e-4 for 30 epochs.\n",
    "\n",
    "We train the network for about 135 epochs."
   ]
  },
  {
   "cell_type": "code",
   "execution_count": 83,
   "id": "cc42c578-7fd1-462a-b415-c45d8529573e",
   "metadata": {
    "tags": []
   },
   "outputs": [],
   "source": [
    "def evaluate_loss(model, criterion, dataloader):\n",
    "    total_loss = 0\n",
    "    model.eval()\n",
    "    \n",
    "    with torch.no_grad():\n",
    "        for X, Y in dataloader:\n",
    "            X = X.to(DEVICE)\n",
    "            Y = Y.to(DEVICE)\n",
    "\n",
    "            pred = model(X)\n",
    "            loss = criterion(pred, Y)\n",
    "            total_loss += loss.item()\n",
    "            break\n",
    "            \n",
    "    N = len(dataloader)\n",
    "    # loss = total_loss / N\n",
    "    loss = total_loss\n",
    "    \n",
    "    return loss"
   ]
  },
  {
   "cell_type": "code",
   "execution_count": 84,
   "id": "26b23b0f-572b-414f-a1e6-c5e3a822fc8a",
   "metadata": {
    "tags": []
   },
   "outputs": [],
   "source": [
    "torch.cuda.empty_cache()"
   ]
  },
  {
   "cell_type": "code",
   "execution_count": 102,
   "id": "da10513c-17e8-473b-925b-8916ddaeb8d8",
   "metadata": {
    "tags": []
   },
   "outputs": [],
   "source": [
    "FIRST_EPOCHS = 3\n",
    "EPOCHS = 100\n",
    "MOMENTUM = 0.9\n",
    "WEIGHT_DECAY = 0.0005\n",
    "\n",
    "def train_yolo(model, criterion, train_dataloader, val_dataloader):\n",
    "    pre_optimizer = torch.optim.SGD(model.parameters(), lr=1e-3, weight_decay=WEIGHT_DECAY, momentum=MOMENTUM)\n",
    "    optimizer = torch.optim.SGD(model.parameters(), lr=1e-3, weight_decay=WEIGHT_DECAY, momentum=MOMENTUM)\n",
    "    # optimizer = torch.optim.Adam(model.parameters(), lr=1e-3, weight_decay=WEIGHT_DECAY)\n",
    "    # scheduler = MultiStepLR(optimizer,\n",
    "    #                         milestones=[3, 6],\n",
    "    #                         gamma=0.1)\n",
    "    \n",
    "    train_losses = []\n",
    "    val_losses = []\n",
    "    \n",
    "    N = len(train_dataloader)\n",
    "    \n",
    "    # pretrain lr=1e-3\n",
    "#     for epoch in range(FIRST_EPOCHS):\n",
    "#         model.train()\n",
    "#         total_loss = 0\n",
    "#         for i, (X, Y) in enumerate(tqdm(train_dataloader, leave=False, desc=f\"Pretrain Epoch [{epoch+1}/{FIRST_EPOCHS}]\")):\n",
    "#             X = X.to(DEVICE)\n",
    "#             Y = Y.to(DEVICE)\n",
    "            \n",
    "#             pred = model(X)\n",
    "#             loss = criterion(pred, Y)\n",
    "#             total_loss += loss.item()\n",
    "            \n",
    "#             # backprop\n",
    "#             pre_optimizer.zero_grad()\n",
    "#             loss.backward()\n",
    "#             pre_optimizer.step()\n",
    "        \n",
    "#         # loss = total_loss\n",
    "#         loss = total_loss / N\n",
    "#         print(f\"Pretrain Epoch [{epoch+1}/{FIRST_EPOCHS}]: Train Loss={loss}\")\n",
    "            \n",
    "    # train\n",
    "    for epoch in range(EPOCHS):\n",
    "        model.train()\n",
    "        total_loss = 0\n",
    "        lr = optimizer.param_groups[0][\"lr\"]\n",
    "        for i, (X, Y) in enumerate(tqdm(train_dataloader, leave=False, desc=f\"Epoch [{epoch+1}/{EPOCHS}]: lr={lr}\")):\n",
    "            X = X.to(DEVICE)\n",
    "            Y = Y.to(DEVICE)\n",
    "            \n",
    "            # print(X)\n",
    "            \n",
    "            pred = model(X)\n",
    "            \n",
    "            # print(pred)\n",
    "            loss = criterion(pred, Y)\n",
    "            # print(loss)\n",
    "            total_loss += loss.item()\n",
    "            \n",
    "            # backprop\n",
    "            optimizer.zero_grad()\n",
    "            loss.backward()\n",
    "            optimizer.step()\n",
    "            break\n",
    "            \n",
    "        # train_loss = total_loss / N\n",
    "        train_loss = total_loss\n",
    "        train_losses.append(train_loss)\n",
    "        \n",
    "        # update learning rate\n",
    "        # scheduler.step()\n",
    "        \n",
    "        # evaluate on validation set\n",
    "        val_loss = evaluate_loss(model, criterion, val_dataloader)\n",
    "        val_losses.append(val_loss)\n",
    "        \n",
    "        print(f\"Epoch [{epoch+1}/{EPOCHS}]: Train Loss={train_loss}, Val Loss={val_loss}\")\n",
    "    \n",
    "    return train_losses, val_losses"
   ]
  },
  {
   "cell_type": "code",
   "execution_count": 103,
   "id": "40116bcc-8aef-427f-8498-d0c43cc93077",
   "metadata": {
    "tags": []
   },
   "outputs": [
    {
     "data": {
      "application/vnd.jupyter.widget-view+json": {
       "model_id": "5554d0c09d044b36a652e1f3204b10d8",
       "version_major": 2,
       "version_minor": 0
      },
      "text/plain": [
       "Epoch [1/100]: lr=0.001:   0%|          | 0/40 [00:00<?, ?it/s]"
      ]
     },
     "metadata": {},
     "output_type": "display_data"
    },
    {
     "name": "stdout",
     "output_type": "stream",
     "text": [
      "Epoch [1/100]: Train Loss=1.4226999282836914, Val Loss=9.295550346374512\n"
     ]
    },
    {
     "data": {
      "application/vnd.jupyter.widget-view+json": {
       "model_id": "da6942a8795149d48dfc3cfdaeb242d2",
       "version_major": 2,
       "version_minor": 0
      },
      "text/plain": [
       "Epoch [2/100]: lr=0.001:   0%|          | 0/40 [00:00<?, ?it/s]"
      ]
     },
     "metadata": {},
     "output_type": "display_data"
    },
    {
     "name": "stdout",
     "output_type": "stream",
     "text": [
      "Epoch [2/100]: Train Loss=1.381443977355957, Val Loss=9.30438232421875\n"
     ]
    },
    {
     "data": {
      "application/vnd.jupyter.widget-view+json": {
       "model_id": "197da0e6fa54493a828d82fc9b1a8ab0",
       "version_major": 2,
       "version_minor": 0
      },
      "text/plain": [
       "Epoch [3/100]: lr=0.001:   0%|          | 0/40 [00:00<?, ?it/s]"
      ]
     },
     "metadata": {},
     "output_type": "display_data"
    },
    {
     "name": "stdout",
     "output_type": "stream",
     "text": [
      "Epoch [3/100]: Train Loss=1.4423173666000366, Val Loss=9.318083763122559\n"
     ]
    },
    {
     "data": {
      "application/vnd.jupyter.widget-view+json": {
       "model_id": "79c3fa373c2241129900d5c59beee365",
       "version_major": 2,
       "version_minor": 0
      },
      "text/plain": [
       "Epoch [4/100]: lr=0.001:   0%|          | 0/40 [00:00<?, ?it/s]"
      ]
     },
     "metadata": {},
     "output_type": "display_data"
    },
    {
     "name": "stdout",
     "output_type": "stream",
     "text": [
      "Epoch [4/100]: Train Loss=1.348246693611145, Val Loss=9.326096534729004\n"
     ]
    },
    {
     "data": {
      "application/vnd.jupyter.widget-view+json": {
       "model_id": "e98827f4f11841c68c49578ff9cda684",
       "version_major": 2,
       "version_minor": 0
      },
      "text/plain": [
       "Epoch [5/100]: lr=0.001:   0%|          | 0/40 [00:00<?, ?it/s]"
      ]
     },
     "metadata": {},
     "output_type": "display_data"
    },
    {
     "name": "stdout",
     "output_type": "stream",
     "text": [
      "Epoch [5/100]: Train Loss=1.3324466943740845, Val Loss=9.319059371948242\n"
     ]
    },
    {
     "data": {
      "application/vnd.jupyter.widget-view+json": {
       "model_id": "70afdd42529d4d8387d374de1012fdf3",
       "version_major": 2,
       "version_minor": 0
      },
      "text/plain": [
       "Epoch [6/100]: lr=0.001:   0%|          | 0/40 [00:00<?, ?it/s]"
      ]
     },
     "metadata": {},
     "output_type": "display_data"
    },
    {
     "name": "stdout",
     "output_type": "stream",
     "text": [
      "Epoch [6/100]: Train Loss=1.4454624652862549, Val Loss=9.295692443847656\n"
     ]
    },
    {
     "data": {
      "application/vnd.jupyter.widget-view+json": {
       "model_id": "b427feb26c2e401ab303437d1b4bbf0f",
       "version_major": 2,
       "version_minor": 0
      },
      "text/plain": [
       "Epoch [7/100]: lr=0.001:   0%|          | 0/40 [00:00<?, ?it/s]"
      ]
     },
     "metadata": {},
     "output_type": "display_data"
    },
    {
     "name": "stdout",
     "output_type": "stream",
     "text": [
      "Epoch [7/100]: Train Loss=1.4130418300628662, Val Loss=9.30004596710205\n"
     ]
    },
    {
     "data": {
      "application/vnd.jupyter.widget-view+json": {
       "model_id": "fec2a067cd5c48febee826ede74d0327",
       "version_major": 2,
       "version_minor": 0
      },
      "text/plain": [
       "Epoch [8/100]: lr=0.001:   0%|          | 0/40 [00:00<?, ?it/s]"
      ]
     },
     "metadata": {},
     "output_type": "display_data"
    },
    {
     "name": "stdout",
     "output_type": "stream",
     "text": [
      "Epoch [8/100]: Train Loss=1.3122279644012451, Val Loss=9.309688568115234\n"
     ]
    },
    {
     "data": {
      "application/vnd.jupyter.widget-view+json": {
       "model_id": "254023f2ffb14872b5aff0f2b18d780b",
       "version_major": 2,
       "version_minor": 0
      },
      "text/plain": [
       "Epoch [9/100]: lr=0.001:   0%|          | 0/40 [00:00<?, ?it/s]"
      ]
     },
     "metadata": {},
     "output_type": "display_data"
    },
    {
     "name": "stdout",
     "output_type": "stream",
     "text": [
      "Epoch [9/100]: Train Loss=1.399667739868164, Val Loss=9.318323135375977\n"
     ]
    },
    {
     "data": {
      "application/vnd.jupyter.widget-view+json": {
       "model_id": "cbba8c559d8a4425b6e54eb6089ed4a9",
       "version_major": 2,
       "version_minor": 0
      },
      "text/plain": [
       "Epoch [10/100]: lr=0.001:   0%|          | 0/40 [00:00<?, ?it/s]"
      ]
     },
     "metadata": {},
     "output_type": "display_data"
    },
    {
     "name": "stdout",
     "output_type": "stream",
     "text": [
      "Epoch [10/100]: Train Loss=1.4317872524261475, Val Loss=9.340909004211426\n"
     ]
    },
    {
     "data": {
      "application/vnd.jupyter.widget-view+json": {
       "model_id": "d62f211fdcc64488a944ea16cced8d51",
       "version_major": 2,
       "version_minor": 0
      },
      "text/plain": [
       "Epoch [11/100]: lr=0.001:   0%|          | 0/40 [00:00<?, ?it/s]"
      ]
     },
     "metadata": {},
     "output_type": "display_data"
    },
    {
     "name": "stdout",
     "output_type": "stream",
     "text": [
      "Epoch [11/100]: Train Loss=1.3432748317718506, Val Loss=9.341748237609863\n"
     ]
    },
    {
     "data": {
      "application/vnd.jupyter.widget-view+json": {
       "model_id": "833af4440fa84c65b2bcb6850d01232f",
       "version_major": 2,
       "version_minor": 0
      },
      "text/plain": [
       "Epoch [12/100]: lr=0.001:   0%|          | 0/40 [00:00<?, ?it/s]"
      ]
     },
     "metadata": {},
     "output_type": "display_data"
    },
    {
     "name": "stdout",
     "output_type": "stream",
     "text": [
      "Epoch [12/100]: Train Loss=1.4162096977233887, Val Loss=9.34377384185791\n"
     ]
    },
    {
     "data": {
      "application/vnd.jupyter.widget-view+json": {
       "model_id": "f9b2893808ae446180d2fd8e864e820b",
       "version_major": 2,
       "version_minor": 0
      },
      "text/plain": [
       "Epoch [13/100]: lr=0.001:   0%|          | 0/40 [00:00<?, ?it/s]"
      ]
     },
     "metadata": {},
     "output_type": "display_data"
    },
    {
     "name": "stdout",
     "output_type": "stream",
     "text": [
      "Epoch [13/100]: Train Loss=1.3617572784423828, Val Loss=9.335241317749023\n"
     ]
    },
    {
     "data": {
      "application/vnd.jupyter.widget-view+json": {
       "model_id": "f1b9732803af4dd4aedceb3347a335ce",
       "version_major": 2,
       "version_minor": 0
      },
      "text/plain": [
       "Epoch [14/100]: lr=0.001:   0%|          | 0/40 [00:00<?, ?it/s]"
      ]
     },
     "metadata": {},
     "output_type": "display_data"
    },
    {
     "name": "stdout",
     "output_type": "stream",
     "text": [
      "Epoch [14/100]: Train Loss=1.3078458309173584, Val Loss=9.340514183044434\n"
     ]
    },
    {
     "data": {
      "application/vnd.jupyter.widget-view+json": {
       "model_id": "0db6255aff3f4aa2be8c15526be621ec",
       "version_major": 2,
       "version_minor": 0
      },
      "text/plain": [
       "Epoch [15/100]: lr=0.001:   0%|          | 0/40 [00:00<?, ?it/s]"
      ]
     },
     "metadata": {},
     "output_type": "display_data"
    },
    {
     "name": "stdout",
     "output_type": "stream",
     "text": [
      "Epoch [15/100]: Train Loss=1.3257224559783936, Val Loss=9.31801986694336\n"
     ]
    },
    {
     "data": {
      "application/vnd.jupyter.widget-view+json": {
       "model_id": "3f9fd0ee9b984e08bdad54a77adf4dcf",
       "version_major": 2,
       "version_minor": 0
      },
      "text/plain": [
       "Epoch [16/100]: lr=0.001:   0%|          | 0/40 [00:00<?, ?it/s]"
      ]
     },
     "metadata": {},
     "output_type": "display_data"
    },
    {
     "name": "stdout",
     "output_type": "stream",
     "text": [
      "Epoch [16/100]: Train Loss=1.315994143486023, Val Loss=9.31915283203125\n"
     ]
    },
    {
     "data": {
      "application/vnd.jupyter.widget-view+json": {
       "model_id": "699b40d0ebde4fbaac23204b065e0301",
       "version_major": 2,
       "version_minor": 0
      },
      "text/plain": [
       "Epoch [17/100]: lr=0.001:   0%|          | 0/40 [00:00<?, ?it/s]"
      ]
     },
     "metadata": {},
     "output_type": "display_data"
    },
    {
     "name": "stdout",
     "output_type": "stream",
     "text": [
      "Epoch [17/100]: Train Loss=1.3073451519012451, Val Loss=9.31729793548584\n"
     ]
    },
    {
     "data": {
      "application/vnd.jupyter.widget-view+json": {
       "model_id": "ca024074fe044e46a98bf9a6e9fdb7a4",
       "version_major": 2,
       "version_minor": 0
      },
      "text/plain": [
       "Epoch [18/100]: lr=0.001:   0%|          | 0/40 [00:00<?, ?it/s]"
      ]
     },
     "metadata": {},
     "output_type": "display_data"
    },
    {
     "name": "stdout",
     "output_type": "stream",
     "text": [
      "Epoch [18/100]: Train Loss=1.3174796104431152, Val Loss=9.332795143127441\n"
     ]
    },
    {
     "data": {
      "application/vnd.jupyter.widget-view+json": {
       "model_id": "7aabfc88258742dfb532567b16a9f284",
       "version_major": 2,
       "version_minor": 0
      },
      "text/plain": [
       "Epoch [19/100]: lr=0.001:   0%|          | 0/40 [00:00<?, ?it/s]"
      ]
     },
     "metadata": {},
     "output_type": "display_data"
    },
    {
     "name": "stdout",
     "output_type": "stream",
     "text": [
      "Epoch [19/100]: Train Loss=1.346002221107483, Val Loss=9.360315322875977\n"
     ]
    },
    {
     "data": {
      "application/vnd.jupyter.widget-view+json": {
       "model_id": "349182d227164c12bd4be9cf5bb1cc99",
       "version_major": 2,
       "version_minor": 0
      },
      "text/plain": [
       "Epoch [20/100]: lr=0.001:   0%|          | 0/40 [00:00<?, ?it/s]"
      ]
     },
     "metadata": {},
     "output_type": "display_data"
    },
    {
     "name": "stdout",
     "output_type": "stream",
     "text": [
      "Epoch [20/100]: Train Loss=1.2276105880737305, Val Loss=9.356961250305176\n"
     ]
    },
    {
     "data": {
      "application/vnd.jupyter.widget-view+json": {
       "model_id": "5931275540d647c89cc4b7a8a5d96738",
       "version_major": 2,
       "version_minor": 0
      },
      "text/plain": [
       "Epoch [21/100]: lr=0.001:   0%|          | 0/40 [00:00<?, ?it/s]"
      ]
     },
     "metadata": {},
     "output_type": "display_data"
    },
    {
     "name": "stdout",
     "output_type": "stream",
     "text": [
      "Epoch [21/100]: Train Loss=1.343733787536621, Val Loss=9.31737995147705\n"
     ]
    },
    {
     "data": {
      "application/vnd.jupyter.widget-view+json": {
       "model_id": "758ebe8ccb4f4f3ebc778d78435741d0",
       "version_major": 2,
       "version_minor": 0
      },
      "text/plain": [
       "Epoch [22/100]: lr=0.001:   0%|          | 0/40 [00:00<?, ?it/s]"
      ]
     },
     "metadata": {},
     "output_type": "display_data"
    },
    {
     "name": "stdout",
     "output_type": "stream",
     "text": [
      "Epoch [22/100]: Train Loss=1.1791801452636719, Val Loss=9.3945894241333\n"
     ]
    },
    {
     "data": {
      "application/vnd.jupyter.widget-view+json": {
       "model_id": "6380d954982c48e1a9e56a52032a5c2c",
       "version_major": 2,
       "version_minor": 0
      },
      "text/plain": [
       "Epoch [23/100]: lr=0.001:   0%|          | 0/40 [00:00<?, ?it/s]"
      ]
     },
     "metadata": {},
     "output_type": "display_data"
    },
    {
     "name": "stdout",
     "output_type": "stream",
     "text": [
      "Epoch [23/100]: Train Loss=1.1482956409454346, Val Loss=9.424966812133789\n"
     ]
    },
    {
     "data": {
      "application/vnd.jupyter.widget-view+json": {
       "model_id": "3a979e72de97403faa2b11622711d037",
       "version_major": 2,
       "version_minor": 0
      },
      "text/plain": [
       "Epoch [24/100]: lr=0.001:   0%|          | 0/40 [00:00<?, ?it/s]"
      ]
     },
     "metadata": {},
     "output_type": "display_data"
    },
    {
     "name": "stdout",
     "output_type": "stream",
     "text": [
      "Epoch [24/100]: Train Loss=1.2656604051589966, Val Loss=9.450223922729492\n"
     ]
    },
    {
     "data": {
      "application/vnd.jupyter.widget-view+json": {
       "model_id": "222bcacc76b04733a186a32495653f27",
       "version_major": 2,
       "version_minor": 0
      },
      "text/plain": [
       "Epoch [25/100]: lr=0.001:   0%|          | 0/40 [00:00<?, ?it/s]"
      ]
     },
     "metadata": {},
     "output_type": "display_data"
    },
    {
     "name": "stdout",
     "output_type": "stream",
     "text": [
      "Epoch [25/100]: Train Loss=1.159764289855957, Val Loss=9.45606803894043\n"
     ]
    },
    {
     "data": {
      "application/vnd.jupyter.widget-view+json": {
       "model_id": "f0202cd244bb40fbbae09857e419ad08",
       "version_major": 2,
       "version_minor": 0
      },
      "text/plain": [
       "Epoch [26/100]: lr=0.001:   0%|          | 0/40 [00:00<?, ?it/s]"
      ]
     },
     "metadata": {},
     "output_type": "display_data"
    },
    {
     "name": "stdout",
     "output_type": "stream",
     "text": [
      "Epoch [26/100]: Train Loss=1.228255271911621, Val Loss=9.426955223083496\n"
     ]
    },
    {
     "data": {
      "application/vnd.jupyter.widget-view+json": {
       "model_id": "1503a898071a49dd9944ea09ddd585d2",
       "version_major": 2,
       "version_minor": 0
      },
      "text/plain": [
       "Epoch [27/100]: lr=0.001:   0%|          | 0/40 [00:00<?, ?it/s]"
      ]
     },
     "metadata": {},
     "output_type": "display_data"
    },
    {
     "name": "stdout",
     "output_type": "stream",
     "text": [
      "Epoch [27/100]: Train Loss=1.276000738143921, Val Loss=9.412359237670898\n"
     ]
    },
    {
     "data": {
      "application/vnd.jupyter.widget-view+json": {
       "model_id": "908e0923925740f6bfad58731135d5e0",
       "version_major": 2,
       "version_minor": 0
      },
      "text/plain": [
       "Epoch [28/100]: lr=0.001:   0%|          | 0/40 [00:00<?, ?it/s]"
      ]
     },
     "metadata": {},
     "output_type": "display_data"
    },
    {
     "name": "stdout",
     "output_type": "stream",
     "text": [
      "Epoch [28/100]: Train Loss=1.1319864988327026, Val Loss=9.406501770019531\n"
     ]
    },
    {
     "data": {
      "application/vnd.jupyter.widget-view+json": {
       "model_id": "c9ca2116184244258e51755fb3d6012f",
       "version_major": 2,
       "version_minor": 0
      },
      "text/plain": [
       "Epoch [29/100]: lr=0.001:   0%|          | 0/40 [00:00<?, ?it/s]"
      ]
     },
     "metadata": {},
     "output_type": "display_data"
    },
    {
     "name": "stdout",
     "output_type": "stream",
     "text": [
      "Epoch [29/100]: Train Loss=1.2665059566497803, Val Loss=9.401747703552246\n"
     ]
    },
    {
     "data": {
      "application/vnd.jupyter.widget-view+json": {
       "model_id": "f3691dcfd40e4994a9cb8f7ead4aa546",
       "version_major": 2,
       "version_minor": 0
      },
      "text/plain": [
       "Epoch [30/100]: lr=0.001:   0%|          | 0/40 [00:00<?, ?it/s]"
      ]
     },
     "metadata": {},
     "output_type": "display_data"
    },
    {
     "name": "stdout",
     "output_type": "stream",
     "text": [
      "Epoch [30/100]: Train Loss=1.0919573307037354, Val Loss=9.402929306030273\n"
     ]
    },
    {
     "data": {
      "application/vnd.jupyter.widget-view+json": {
       "model_id": "46f79ee0636c4bcf82d331f6c08fd17b",
       "version_major": 2,
       "version_minor": 0
      },
      "text/plain": [
       "Epoch [31/100]: lr=0.001:   0%|          | 0/40 [00:00<?, ?it/s]"
      ]
     },
     "metadata": {},
     "output_type": "display_data"
    },
    {
     "name": "stdout",
     "output_type": "stream",
     "text": [
      "Epoch [31/100]: Train Loss=1.2031621932983398, Val Loss=9.38081169128418\n"
     ]
    },
    {
     "data": {
      "application/vnd.jupyter.widget-view+json": {
       "model_id": "26b7f96e198344d9b3f0afca1150539f",
       "version_major": 2,
       "version_minor": 0
      },
      "text/plain": [
       "Epoch [32/100]: lr=0.001:   0%|          | 0/40 [00:00<?, ?it/s]"
      ]
     },
     "metadata": {},
     "output_type": "display_data"
    },
    {
     "name": "stdout",
     "output_type": "stream",
     "text": [
      "Epoch [32/100]: Train Loss=1.0976206064224243, Val Loss=9.369421005249023\n"
     ]
    },
    {
     "data": {
      "application/vnd.jupyter.widget-view+json": {
       "model_id": "177d3aea3b72498e84fdc3437081d1db",
       "version_major": 2,
       "version_minor": 0
      },
      "text/plain": [
       "Epoch [33/100]: lr=0.001:   0%|          | 0/40 [00:00<?, ?it/s]"
      ]
     },
     "metadata": {},
     "output_type": "display_data"
    },
    {
     "name": "stdout",
     "output_type": "stream",
     "text": [
      "Epoch [33/100]: Train Loss=1.1149710416793823, Val Loss=9.346834182739258\n"
     ]
    },
    {
     "data": {
      "application/vnd.jupyter.widget-view+json": {
       "model_id": "b67897dede9b4dfeb8bd048072fedce0",
       "version_major": 2,
       "version_minor": 0
      },
      "text/plain": [
       "Epoch [34/100]: lr=0.001:   0%|          | 0/40 [00:00<?, ?it/s]"
      ]
     },
     "metadata": {},
     "output_type": "display_data"
    },
    {
     "name": "stdout",
     "output_type": "stream",
     "text": [
      "Epoch [34/100]: Train Loss=1.1445069313049316, Val Loss=9.350831985473633\n"
     ]
    },
    {
     "data": {
      "application/vnd.jupyter.widget-view+json": {
       "model_id": "39abdcdf85114927a7391f311fc84b4b",
       "version_major": 2,
       "version_minor": 0
      },
      "text/plain": [
       "Epoch [35/100]: lr=0.001:   0%|          | 0/40 [00:00<?, ?it/s]"
      ]
     },
     "metadata": {},
     "output_type": "display_data"
    },
    {
     "name": "stdout",
     "output_type": "stream",
     "text": [
      "Epoch [35/100]: Train Loss=1.085208535194397, Val Loss=9.368152618408203\n"
     ]
    },
    {
     "data": {
      "application/vnd.jupyter.widget-view+json": {
       "model_id": "269c6b10b51c43aebf7d48883211a491",
       "version_major": 2,
       "version_minor": 0
      },
      "text/plain": [
       "Epoch [36/100]: lr=0.001:   0%|          | 0/40 [00:00<?, ?it/s]"
      ]
     },
     "metadata": {},
     "output_type": "display_data"
    },
    {
     "name": "stdout",
     "output_type": "stream",
     "text": [
      "Epoch [36/100]: Train Loss=1.0830397605895996, Val Loss=9.382030487060547\n"
     ]
    },
    {
     "data": {
      "application/vnd.jupyter.widget-view+json": {
       "model_id": "446226863c1c47ada02a6e8f7e971235",
       "version_major": 2,
       "version_minor": 0
      },
      "text/plain": [
       "Epoch [37/100]: lr=0.001:   0%|          | 0/40 [00:00<?, ?it/s]"
      ]
     },
     "metadata": {},
     "output_type": "display_data"
    },
    {
     "name": "stdout",
     "output_type": "stream",
     "text": [
      "Epoch [37/100]: Train Loss=1.0481939315795898, Val Loss=9.417468070983887\n"
     ]
    },
    {
     "data": {
      "application/vnd.jupyter.widget-view+json": {
       "model_id": "bef90c7686fe45008d38fd9d7656a140",
       "version_major": 2,
       "version_minor": 0
      },
      "text/plain": [
       "Epoch [38/100]: lr=0.001:   0%|          | 0/40 [00:00<?, ?it/s]"
      ]
     },
     "metadata": {},
     "output_type": "display_data"
    },
    {
     "name": "stdout",
     "output_type": "stream",
     "text": [
      "Epoch [38/100]: Train Loss=1.0023730993270874, Val Loss=9.434249877929688\n"
     ]
    },
    {
     "data": {
      "application/vnd.jupyter.widget-view+json": {
       "model_id": "f20e042095bb472688d12c54b5e96429",
       "version_major": 2,
       "version_minor": 0
      },
      "text/plain": [
       "Epoch [39/100]: lr=0.001:   0%|          | 0/40 [00:00<?, ?it/s]"
      ]
     },
     "metadata": {},
     "output_type": "display_data"
    },
    {
     "name": "stdout",
     "output_type": "stream",
     "text": [
      "Epoch [39/100]: Train Loss=1.0087852478027344, Val Loss=9.409116744995117\n"
     ]
    },
    {
     "data": {
      "application/vnd.jupyter.widget-view+json": {
       "model_id": "56579c6203e8480eaa2a3240ae4fd8b9",
       "version_major": 2,
       "version_minor": 0
      },
      "text/plain": [
       "Epoch [40/100]: lr=0.001:   0%|          | 0/40 [00:00<?, ?it/s]"
      ]
     },
     "metadata": {},
     "output_type": "display_data"
    },
    {
     "name": "stdout",
     "output_type": "stream",
     "text": [
      "Epoch [40/100]: Train Loss=1.0425671339035034, Val Loss=9.42041301727295\n"
     ]
    },
    {
     "data": {
      "application/vnd.jupyter.widget-view+json": {
       "model_id": "1965f64008bb49d097b160d95c8df103",
       "version_major": 2,
       "version_minor": 0
      },
      "text/plain": [
       "Epoch [41/100]: lr=0.001:   0%|          | 0/40 [00:00<?, ?it/s]"
      ]
     },
     "metadata": {},
     "output_type": "display_data"
    },
    {
     "name": "stdout",
     "output_type": "stream",
     "text": [
      "Epoch [41/100]: Train Loss=1.0036659240722656, Val Loss=9.404603958129883\n"
     ]
    },
    {
     "data": {
      "application/vnd.jupyter.widget-view+json": {
       "model_id": "c3f1c09dd2b84c49a617faca26449468",
       "version_major": 2,
       "version_minor": 0
      },
      "text/plain": [
       "Epoch [42/100]: lr=0.001:   0%|          | 0/40 [00:00<?, ?it/s]"
      ]
     },
     "metadata": {},
     "output_type": "display_data"
    },
    {
     "name": "stdout",
     "output_type": "stream",
     "text": [
      "Epoch [42/100]: Train Loss=0.9938126802444458, Val Loss=9.392069816589355\n"
     ]
    },
    {
     "data": {
      "application/vnd.jupyter.widget-view+json": {
       "model_id": "3d0a8e4b71d44f4fa080ad29b948b6e9",
       "version_major": 2,
       "version_minor": 0
      },
      "text/plain": [
       "Epoch [43/100]: lr=0.001:   0%|          | 0/40 [00:00<?, ?it/s]"
      ]
     },
     "metadata": {},
     "output_type": "display_data"
    },
    {
     "name": "stdout",
     "output_type": "stream",
     "text": [
      "Epoch [43/100]: Train Loss=0.9800923466682434, Val Loss=9.390249252319336\n"
     ]
    },
    {
     "data": {
      "application/vnd.jupyter.widget-view+json": {
       "model_id": "57abd1b15041467e80318f6b1ce46db4",
       "version_major": 2,
       "version_minor": 0
      },
      "text/plain": [
       "Epoch [44/100]: lr=0.001:   0%|          | 0/40 [00:00<?, ?it/s]"
      ]
     },
     "metadata": {},
     "output_type": "display_data"
    },
    {
     "name": "stdout",
     "output_type": "stream",
     "text": [
      "Epoch [44/100]: Train Loss=0.9357098340988159, Val Loss=9.411674499511719\n"
     ]
    },
    {
     "data": {
      "application/vnd.jupyter.widget-view+json": {
       "model_id": "055abda5bfe74c61b7826ae9bb3025a4",
       "version_major": 2,
       "version_minor": 0
      },
      "text/plain": [
       "Epoch [45/100]: lr=0.001:   0%|          | 0/40 [00:00<?, ?it/s]"
      ]
     },
     "metadata": {},
     "output_type": "display_data"
    },
    {
     "name": "stdout",
     "output_type": "stream",
     "text": [
      "Epoch [45/100]: Train Loss=0.9886789321899414, Val Loss=9.394639015197754\n"
     ]
    },
    {
     "data": {
      "application/vnd.jupyter.widget-view+json": {
       "model_id": "d700505c9ef9474e9982c311f73e7420",
       "version_major": 2,
       "version_minor": 0
      },
      "text/plain": [
       "Epoch [46/100]: lr=0.001:   0%|          | 0/40 [00:00<?, ?it/s]"
      ]
     },
     "metadata": {},
     "output_type": "display_data"
    },
    {
     "name": "stdout",
     "output_type": "stream",
     "text": [
      "Epoch [46/100]: Train Loss=0.9270832538604736, Val Loss=9.381953239440918\n"
     ]
    },
    {
     "data": {
      "application/vnd.jupyter.widget-view+json": {
       "model_id": "75da169c6ac846339048705e422c26ca",
       "version_major": 2,
       "version_minor": 0
      },
      "text/plain": [
       "Epoch [47/100]: lr=0.001:   0%|          | 0/40 [00:00<?, ?it/s]"
      ]
     },
     "metadata": {},
     "output_type": "display_data"
    },
    {
     "name": "stdout",
     "output_type": "stream",
     "text": [
      "Epoch [47/100]: Train Loss=0.9049339890480042, Val Loss=9.357748031616211\n"
     ]
    },
    {
     "data": {
      "application/vnd.jupyter.widget-view+json": {
       "model_id": "4b68b130ecc7450c9807b726f88aa3cc",
       "version_major": 2,
       "version_minor": 0
      },
      "text/plain": [
       "Epoch [48/100]: lr=0.001:   0%|          | 0/40 [00:00<?, ?it/s]"
      ]
     },
     "metadata": {},
     "output_type": "display_data"
    },
    {
     "name": "stdout",
     "output_type": "stream",
     "text": [
      "Epoch [48/100]: Train Loss=0.8903659582138062, Val Loss=9.341390609741211\n"
     ]
    },
    {
     "data": {
      "application/vnd.jupyter.widget-view+json": {
       "model_id": "d5264135d35a46b7811857640e83721e",
       "version_major": 2,
       "version_minor": 0
      },
      "text/plain": [
       "Epoch [49/100]: lr=0.001:   0%|          | 0/40 [00:00<?, ?it/s]"
      ]
     },
     "metadata": {},
     "output_type": "display_data"
    },
    {
     "name": "stdout",
     "output_type": "stream",
     "text": [
      "Epoch [49/100]: Train Loss=0.969981849193573, Val Loss=9.359940528869629\n"
     ]
    },
    {
     "data": {
      "application/vnd.jupyter.widget-view+json": {
       "model_id": "6f441291bb204111a58fc52516d265fb",
       "version_major": 2,
       "version_minor": 0
      },
      "text/plain": [
       "Epoch [50/100]: lr=0.001:   0%|          | 0/40 [00:00<?, ?it/s]"
      ]
     },
     "metadata": {},
     "output_type": "display_data"
    },
    {
     "name": "stdout",
     "output_type": "stream",
     "text": [
      "Epoch [50/100]: Train Loss=0.9261417984962463, Val Loss=9.365127563476562\n"
     ]
    },
    {
     "data": {
      "application/vnd.jupyter.widget-view+json": {
       "model_id": "3c66836c853847b99d06cd5cfe5db5db",
       "version_major": 2,
       "version_minor": 0
      },
      "text/plain": [
       "Epoch [51/100]: lr=0.001:   0%|          | 0/40 [00:00<?, ?it/s]"
      ]
     },
     "metadata": {},
     "output_type": "display_data"
    },
    {
     "name": "stdout",
     "output_type": "stream",
     "text": [
      "Epoch [51/100]: Train Loss=0.9724393486976624, Val Loss=9.381175994873047\n"
     ]
    },
    {
     "data": {
      "application/vnd.jupyter.widget-view+json": {
       "model_id": "0a73755936cf4f0ea0cf6506434d6d70",
       "version_major": 2,
       "version_minor": 0
      },
      "text/plain": [
       "Epoch [52/100]: lr=0.001:   0%|          | 0/40 [00:00<?, ?it/s]"
      ]
     },
     "metadata": {},
     "output_type": "display_data"
    },
    {
     "name": "stdout",
     "output_type": "stream",
     "text": [
      "Epoch [52/100]: Train Loss=0.9426606893539429, Val Loss=9.377216339111328\n"
     ]
    },
    {
     "data": {
      "application/vnd.jupyter.widget-view+json": {
       "model_id": "b8101c9d9cb94a368684f9abf9a1de3f",
       "version_major": 2,
       "version_minor": 0
      },
      "text/plain": [
       "Epoch [53/100]: lr=0.001:   0%|          | 0/40 [00:00<?, ?it/s]"
      ]
     },
     "metadata": {},
     "output_type": "display_data"
    },
    {
     "name": "stdout",
     "output_type": "stream",
     "text": [
      "Epoch [53/100]: Train Loss=0.8492224812507629, Val Loss=9.40155029296875\n"
     ]
    },
    {
     "data": {
      "application/vnd.jupyter.widget-view+json": {
       "model_id": "f6170275e7014270913c83ec94e27521",
       "version_major": 2,
       "version_minor": 0
      },
      "text/plain": [
       "Epoch [54/100]: lr=0.001:   0%|          | 0/40 [00:00<?, ?it/s]"
      ]
     },
     "metadata": {},
     "output_type": "display_data"
    },
    {
     "name": "stdout",
     "output_type": "stream",
     "text": [
      "Epoch [54/100]: Train Loss=0.830116868019104, Val Loss=9.413568496704102\n"
     ]
    },
    {
     "data": {
      "application/vnd.jupyter.widget-view+json": {
       "model_id": "3181e3a4be2d45249ade3084134448ec",
       "version_major": 2,
       "version_minor": 0
      },
      "text/plain": [
       "Epoch [55/100]: lr=0.001:   0%|          | 0/40 [00:00<?, ?it/s]"
      ]
     },
     "metadata": {},
     "output_type": "display_data"
    },
    {
     "name": "stdout",
     "output_type": "stream",
     "text": [
      "Epoch [55/100]: Train Loss=0.8508497476577759, Val Loss=9.419610977172852\n"
     ]
    },
    {
     "data": {
      "application/vnd.jupyter.widget-view+json": {
       "model_id": "90005e0ce7544a4b9481dc67fbb1e535",
       "version_major": 2,
       "version_minor": 0
      },
      "text/plain": [
       "Epoch [56/100]: lr=0.001:   0%|          | 0/40 [00:00<?, ?it/s]"
      ]
     },
     "metadata": {},
     "output_type": "display_data"
    },
    {
     "name": "stdout",
     "output_type": "stream",
     "text": [
      "Epoch [56/100]: Train Loss=0.8577970862388611, Val Loss=9.437518119812012\n"
     ]
    },
    {
     "data": {
      "application/vnd.jupyter.widget-view+json": {
       "model_id": "43206476c7654596bcee219c55a752f7",
       "version_major": 2,
       "version_minor": 0
      },
      "text/plain": [
       "Epoch [57/100]: lr=0.001:   0%|          | 0/40 [00:00<?, ?it/s]"
      ]
     },
     "metadata": {},
     "output_type": "display_data"
    },
    {
     "name": "stdout",
     "output_type": "stream",
     "text": [
      "Epoch [57/100]: Train Loss=0.8737221956253052, Val Loss=9.426719665527344\n"
     ]
    },
    {
     "data": {
      "application/vnd.jupyter.widget-view+json": {
       "model_id": "2b2eefb1638245f896cc4446b4068d78",
       "version_major": 2,
       "version_minor": 0
      },
      "text/plain": [
       "Epoch [58/100]: lr=0.001:   0%|          | 0/40 [00:00<?, ?it/s]"
      ]
     },
     "metadata": {},
     "output_type": "display_data"
    },
    {
     "name": "stdout",
     "output_type": "stream",
     "text": [
      "Epoch [58/100]: Train Loss=0.909874677658081, Val Loss=9.411642074584961\n"
     ]
    },
    {
     "data": {
      "application/vnd.jupyter.widget-view+json": {
       "model_id": "5215cf0ff6164d33bb146885eb0446d0",
       "version_major": 2,
       "version_minor": 0
      },
      "text/plain": [
       "Epoch [59/100]: lr=0.001:   0%|          | 0/40 [00:00<?, ?it/s]"
      ]
     },
     "metadata": {},
     "output_type": "display_data"
    },
    {
     "name": "stdout",
     "output_type": "stream",
     "text": [
      "Epoch [59/100]: Train Loss=0.8626623153686523, Val Loss=9.424388885498047\n"
     ]
    },
    {
     "data": {
      "application/vnd.jupyter.widget-view+json": {
       "model_id": "67bb715b51f24448a55b99e24ed6c3aa",
       "version_major": 2,
       "version_minor": 0
      },
      "text/plain": [
       "Epoch [60/100]: lr=0.001:   0%|          | 0/40 [00:00<?, ?it/s]"
      ]
     },
     "metadata": {},
     "output_type": "display_data"
    },
    {
     "name": "stdout",
     "output_type": "stream",
     "text": [
      "Epoch [60/100]: Train Loss=0.809068500995636, Val Loss=9.414335250854492\n"
     ]
    },
    {
     "data": {
      "application/vnd.jupyter.widget-view+json": {
       "model_id": "d9fefbeb21974af696ac89f2a50d27e6",
       "version_major": 2,
       "version_minor": 0
      },
      "text/plain": [
       "Epoch [61/100]: lr=0.001:   0%|          | 0/40 [00:00<?, ?it/s]"
      ]
     },
     "metadata": {},
     "output_type": "display_data"
    },
    {
     "name": "stdout",
     "output_type": "stream",
     "text": [
      "Epoch [61/100]: Train Loss=0.7868480682373047, Val Loss=9.415413856506348\n"
     ]
    },
    {
     "data": {
      "application/vnd.jupyter.widget-view+json": {
       "model_id": "fdea8352338640e7883973a60e8e9fb7",
       "version_major": 2,
       "version_minor": 0
      },
      "text/plain": [
       "Epoch [62/100]: lr=0.001:   0%|          | 0/40 [00:00<?, ?it/s]"
      ]
     },
     "metadata": {},
     "output_type": "display_data"
    },
    {
     "name": "stdout",
     "output_type": "stream",
     "text": [
      "Epoch [62/100]: Train Loss=0.7956171631813049, Val Loss=9.413431167602539\n"
     ]
    },
    {
     "data": {
      "application/vnd.jupyter.widget-view+json": {
       "model_id": "79b65e60c10d4bd08b61097af8cffd53",
       "version_major": 2,
       "version_minor": 0
      },
      "text/plain": [
       "Epoch [63/100]: lr=0.001:   0%|          | 0/40 [00:00<?, ?it/s]"
      ]
     },
     "metadata": {},
     "output_type": "display_data"
    },
    {
     "name": "stdout",
     "output_type": "stream",
     "text": [
      "Epoch [63/100]: Train Loss=0.9016607403755188, Val Loss=9.42173957824707\n"
     ]
    },
    {
     "data": {
      "application/vnd.jupyter.widget-view+json": {
       "model_id": "1d83b0f0f37a4e438a8ffe60ca45de8d",
       "version_major": 2,
       "version_minor": 0
      },
      "text/plain": [
       "Epoch [64/100]: lr=0.001:   0%|          | 0/40 [00:00<?, ?it/s]"
      ]
     },
     "metadata": {},
     "output_type": "display_data"
    },
    {
     "name": "stdout",
     "output_type": "stream",
     "text": [
      "Epoch [64/100]: Train Loss=0.8137131929397583, Val Loss=9.436012268066406\n"
     ]
    },
    {
     "data": {
      "application/vnd.jupyter.widget-view+json": {
       "model_id": "ad5aff8032574278a0d0b72efc9cf916",
       "version_major": 2,
       "version_minor": 0
      },
      "text/plain": [
       "Epoch [65/100]: lr=0.001:   0%|          | 0/40 [00:00<?, ?it/s]"
      ]
     },
     "metadata": {},
     "output_type": "display_data"
    },
    {
     "name": "stdout",
     "output_type": "stream",
     "text": [
      "Epoch [65/100]: Train Loss=0.764212965965271, Val Loss=9.41010856628418\n"
     ]
    },
    {
     "data": {
      "application/vnd.jupyter.widget-view+json": {
       "model_id": "e72bc71b52bc4227a2e462945b9d0761",
       "version_major": 2,
       "version_minor": 0
      },
      "text/plain": [
       "Epoch [66/100]: lr=0.001:   0%|          | 0/40 [00:00<?, ?it/s]"
      ]
     },
     "metadata": {},
     "output_type": "display_data"
    },
    {
     "name": "stdout",
     "output_type": "stream",
     "text": [
      "Epoch [66/100]: Train Loss=0.8128156661987305, Val Loss=9.407011032104492\n"
     ]
    },
    {
     "data": {
      "application/vnd.jupyter.widget-view+json": {
       "model_id": "5e17dd5d16564d4d9d0f88b578cef8a6",
       "version_major": 2,
       "version_minor": 0
      },
      "text/plain": [
       "Epoch [67/100]: lr=0.001:   0%|          | 0/40 [00:00<?, ?it/s]"
      ]
     },
     "metadata": {},
     "output_type": "display_data"
    },
    {
     "name": "stdout",
     "output_type": "stream",
     "text": [
      "Epoch [67/100]: Train Loss=0.8323600888252258, Val Loss=9.413743019104004\n"
     ]
    },
    {
     "data": {
      "application/vnd.jupyter.widget-view+json": {
       "model_id": "dbd8cc3308994e4d889f421d5b6b37f3",
       "version_major": 2,
       "version_minor": 0
      },
      "text/plain": [
       "Epoch [68/100]: lr=0.001:   0%|          | 0/40 [00:00<?, ?it/s]"
      ]
     },
     "metadata": {},
     "output_type": "display_data"
    },
    {
     "name": "stdout",
     "output_type": "stream",
     "text": [
      "Epoch [68/100]: Train Loss=0.8027945756912231, Val Loss=9.41811752319336\n"
     ]
    },
    {
     "data": {
      "application/vnd.jupyter.widget-view+json": {
       "model_id": "2d9d0c0a77bb4a869cc50b197b50925f",
       "version_major": 2,
       "version_minor": 0
      },
      "text/plain": [
       "Epoch [69/100]: lr=0.001:   0%|          | 0/40 [00:00<?, ?it/s]"
      ]
     },
     "metadata": {},
     "output_type": "display_data"
    },
    {
     "name": "stdout",
     "output_type": "stream",
     "text": [
      "Epoch [69/100]: Train Loss=0.8169479370117188, Val Loss=9.417243957519531\n"
     ]
    },
    {
     "data": {
      "application/vnd.jupyter.widget-view+json": {
       "model_id": "53eb7120301143b6bac9c09d8b08e246",
       "version_major": 2,
       "version_minor": 0
      },
      "text/plain": [
       "Epoch [70/100]: lr=0.001:   0%|          | 0/40 [00:00<?, ?it/s]"
      ]
     },
     "metadata": {},
     "output_type": "display_data"
    },
    {
     "name": "stdout",
     "output_type": "stream",
     "text": [
      "Epoch [70/100]: Train Loss=0.8198789954185486, Val Loss=9.41881275177002\n"
     ]
    },
    {
     "data": {
      "application/vnd.jupyter.widget-view+json": {
       "model_id": "611f8788e18b47c7987ae32c12c37598",
       "version_major": 2,
       "version_minor": 0
      },
      "text/plain": [
       "Epoch [71/100]: lr=0.001:   0%|          | 0/40 [00:00<?, ?it/s]"
      ]
     },
     "metadata": {},
     "output_type": "display_data"
    },
    {
     "name": "stdout",
     "output_type": "stream",
     "text": [
      "Epoch [71/100]: Train Loss=0.8006020784378052, Val Loss=9.415396690368652\n"
     ]
    },
    {
     "data": {
      "application/vnd.jupyter.widget-view+json": {
       "model_id": "9a459e354231461e8df449d887c6fe9d",
       "version_major": 2,
       "version_minor": 0
      },
      "text/plain": [
       "Epoch [72/100]: lr=0.001:   0%|          | 0/40 [00:00<?, ?it/s]"
      ]
     },
     "metadata": {},
     "output_type": "display_data"
    },
    {
     "name": "stdout",
     "output_type": "stream",
     "text": [
      "Epoch [72/100]: Train Loss=0.773610532283783, Val Loss=9.396245956420898\n"
     ]
    },
    {
     "data": {
      "application/vnd.jupyter.widget-view+json": {
       "model_id": "b696f717deb247ab947c123add07bf21",
       "version_major": 2,
       "version_minor": 0
      },
      "text/plain": [
       "Epoch [73/100]: lr=0.001:   0%|          | 0/40 [00:00<?, ?it/s]"
      ]
     },
     "metadata": {},
     "output_type": "display_data"
    },
    {
     "name": "stdout",
     "output_type": "stream",
     "text": [
      "Epoch [73/100]: Train Loss=0.7916488647460938, Val Loss=9.378190994262695\n"
     ]
    },
    {
     "data": {
      "application/vnd.jupyter.widget-view+json": {
       "model_id": "a6734a9b2f2d41f79c89c054c3e2cb49",
       "version_major": 2,
       "version_minor": 0
      },
      "text/plain": [
       "Epoch [74/100]: lr=0.001:   0%|          | 0/40 [00:00<?, ?it/s]"
      ]
     },
     "metadata": {},
     "output_type": "display_data"
    },
    {
     "name": "stdout",
     "output_type": "stream",
     "text": [
      "Epoch [74/100]: Train Loss=0.8011972308158875, Val Loss=9.376564025878906\n"
     ]
    },
    {
     "data": {
      "application/vnd.jupyter.widget-view+json": {
       "model_id": "c2b027927f9c453a995fa2515c56b823",
       "version_major": 2,
       "version_minor": 0
      },
      "text/plain": [
       "Epoch [75/100]: lr=0.001:   0%|          | 0/40 [00:00<?, ?it/s]"
      ]
     },
     "metadata": {},
     "output_type": "display_data"
    },
    {
     "name": "stdout",
     "output_type": "stream",
     "text": [
      "Epoch [75/100]: Train Loss=0.7652885913848877, Val Loss=9.399459838867188\n"
     ]
    },
    {
     "data": {
      "application/vnd.jupyter.widget-view+json": {
       "model_id": "82358b7363164f80bf7355eaaf80e420",
       "version_major": 2,
       "version_minor": 0
      },
      "text/plain": [
       "Epoch [76/100]: lr=0.001:   0%|          | 0/40 [00:00<?, ?it/s]"
      ]
     },
     "metadata": {},
     "output_type": "display_data"
    },
    {
     "name": "stdout",
     "output_type": "stream",
     "text": [
      "Epoch [76/100]: Train Loss=0.6797167062759399, Val Loss=9.40687084197998\n"
     ]
    },
    {
     "data": {
      "application/vnd.jupyter.widget-view+json": {
       "model_id": "ca7a683c6b6644929b10c8e0d2b79a45",
       "version_major": 2,
       "version_minor": 0
      },
      "text/plain": [
       "Epoch [77/100]: lr=0.001:   0%|          | 0/40 [00:00<?, ?it/s]"
      ]
     },
     "metadata": {},
     "output_type": "display_data"
    },
    {
     "name": "stdout",
     "output_type": "stream",
     "text": [
      "Epoch [77/100]: Train Loss=0.7334839105606079, Val Loss=9.4034423828125\n"
     ]
    },
    {
     "data": {
      "application/vnd.jupyter.widget-view+json": {
       "model_id": "3b50fd4ec85043899ff729306f84a3d2",
       "version_major": 2,
       "version_minor": 0
      },
      "text/plain": [
       "Epoch [78/100]: lr=0.001:   0%|          | 0/40 [00:00<?, ?it/s]"
      ]
     },
     "metadata": {},
     "output_type": "display_data"
    },
    {
     "name": "stdout",
     "output_type": "stream",
     "text": [
      "Epoch [78/100]: Train Loss=0.7391725182533264, Val Loss=9.433501243591309\n"
     ]
    },
    {
     "data": {
      "application/vnd.jupyter.widget-view+json": {
       "model_id": "3f48ff617f7f4fb4b73e1d4ca15b782b",
       "version_major": 2,
       "version_minor": 0
      },
      "text/plain": [
       "Epoch [79/100]: lr=0.001:   0%|          | 0/40 [00:00<?, ?it/s]"
      ]
     },
     "metadata": {},
     "output_type": "display_data"
    },
    {
     "name": "stdout",
     "output_type": "stream",
     "text": [
      "Epoch [79/100]: Train Loss=0.7319543957710266, Val Loss=9.38755989074707\n"
     ]
    },
    {
     "data": {
      "application/vnd.jupyter.widget-view+json": {
       "model_id": "121ae9b6ddf2496991b3bbf411f7f4ef",
       "version_major": 2,
       "version_minor": 0
      },
      "text/plain": [
       "Epoch [80/100]: lr=0.001:   0%|          | 0/40 [00:00<?, ?it/s]"
      ]
     },
     "metadata": {},
     "output_type": "display_data"
    },
    {
     "name": "stdout",
     "output_type": "stream",
     "text": [
      "Epoch [80/100]: Train Loss=0.7145847082138062, Val Loss=9.383210182189941\n"
     ]
    },
    {
     "data": {
      "application/vnd.jupyter.widget-view+json": {
       "model_id": "d219b15b56fc44809448c515e9f64375",
       "version_major": 2,
       "version_minor": 0
      },
      "text/plain": [
       "Epoch [81/100]: lr=0.001:   0%|          | 0/40 [00:00<?, ?it/s]"
      ]
     },
     "metadata": {},
     "output_type": "display_data"
    },
    {
     "name": "stdout",
     "output_type": "stream",
     "text": [
      "Epoch [81/100]: Train Loss=0.7020145654678345, Val Loss=9.350354194641113\n"
     ]
    },
    {
     "data": {
      "application/vnd.jupyter.widget-view+json": {
       "model_id": "f1bb81cb66eb459d89544b5eec26ebfd",
       "version_major": 2,
       "version_minor": 0
      },
      "text/plain": [
       "Epoch [82/100]: lr=0.001:   0%|          | 0/40 [00:00<?, ?it/s]"
      ]
     },
     "metadata": {},
     "output_type": "display_data"
    },
    {
     "name": "stdout",
     "output_type": "stream",
     "text": [
      "Epoch [82/100]: Train Loss=0.7188758254051208, Val Loss=9.363938331604004\n"
     ]
    },
    {
     "data": {
      "application/vnd.jupyter.widget-view+json": {
       "model_id": "8e1ce88fd6224a7a8ffdb3f65cad6ed7",
       "version_major": 2,
       "version_minor": 0
      },
      "text/plain": [
       "Epoch [83/100]: lr=0.001:   0%|          | 0/40 [00:00<?, ?it/s]"
      ]
     },
     "metadata": {},
     "output_type": "display_data"
    },
    {
     "name": "stdout",
     "output_type": "stream",
     "text": [
      "Epoch [83/100]: Train Loss=0.747251033782959, Val Loss=9.35501766204834\n"
     ]
    },
    {
     "data": {
      "application/vnd.jupyter.widget-view+json": {
       "model_id": "b18a55290d5d41e1ad541aff38730bb4",
       "version_major": 2,
       "version_minor": 0
      },
      "text/plain": [
       "Epoch [84/100]: lr=0.001:   0%|          | 0/40 [00:00<?, ?it/s]"
      ]
     },
     "metadata": {},
     "output_type": "display_data"
    },
    {
     "name": "stdout",
     "output_type": "stream",
     "text": [
      "Epoch [84/100]: Train Loss=0.7250421047210693, Val Loss=9.323434829711914\n"
     ]
    },
    {
     "data": {
      "application/vnd.jupyter.widget-view+json": {
       "model_id": "6d65a376baa345ea92be8ee6af60760c",
       "version_major": 2,
       "version_minor": 0
      },
      "text/plain": [
       "Epoch [85/100]: lr=0.001:   0%|          | 0/40 [00:00<?, ?it/s]"
      ]
     },
     "metadata": {},
     "output_type": "display_data"
    },
    {
     "name": "stdout",
     "output_type": "stream",
     "text": [
      "Epoch [85/100]: Train Loss=0.6601014137268066, Val Loss=9.271267890930176\n"
     ]
    },
    {
     "data": {
      "application/vnd.jupyter.widget-view+json": {
       "model_id": "11114d26126b45b48d7de8e378decd40",
       "version_major": 2,
       "version_minor": 0
      },
      "text/plain": [
       "Epoch [86/100]: lr=0.001:   0%|          | 0/40 [00:00<?, ?it/s]"
      ]
     },
     "metadata": {},
     "output_type": "display_data"
    },
    {
     "name": "stdout",
     "output_type": "stream",
     "text": [
      "Epoch [86/100]: Train Loss=0.7038254141807556, Val Loss=9.277257919311523\n"
     ]
    },
    {
     "data": {
      "application/vnd.jupyter.widget-view+json": {
       "model_id": "d15c3b48b56c477b9fbbde9b83e4cef7",
       "version_major": 2,
       "version_minor": 0
      },
      "text/plain": [
       "Epoch [87/100]: lr=0.001:   0%|          | 0/40 [00:00<?, ?it/s]"
      ]
     },
     "metadata": {},
     "output_type": "display_data"
    },
    {
     "name": "stdout",
     "output_type": "stream",
     "text": [
      "Epoch [87/100]: Train Loss=0.6837669610977173, Val Loss=9.281061172485352\n"
     ]
    },
    {
     "data": {
      "application/vnd.jupyter.widget-view+json": {
       "model_id": "15f14508ad6143c3a156d384364f5205",
       "version_major": 2,
       "version_minor": 0
      },
      "text/plain": [
       "Epoch [88/100]: lr=0.001:   0%|          | 0/40 [00:00<?, ?it/s]"
      ]
     },
     "metadata": {},
     "output_type": "display_data"
    },
    {
     "name": "stdout",
     "output_type": "stream",
     "text": [
      "Epoch [88/100]: Train Loss=0.6423935890197754, Val Loss=9.303253173828125\n"
     ]
    },
    {
     "data": {
      "application/vnd.jupyter.widget-view+json": {
       "model_id": "f5855d8b9f394e93bd79f1beb86790b7",
       "version_major": 2,
       "version_minor": 0
      },
      "text/plain": [
       "Epoch [89/100]: lr=0.001:   0%|          | 0/40 [00:00<?, ?it/s]"
      ]
     },
     "metadata": {},
     "output_type": "display_data"
    },
    {
     "name": "stdout",
     "output_type": "stream",
     "text": [
      "Epoch [89/100]: Train Loss=0.6990892887115479, Val Loss=9.317045211791992\n"
     ]
    },
    {
     "data": {
      "application/vnd.jupyter.widget-view+json": {
       "model_id": "3e05763e28174a54905a2944d15f582c",
       "version_major": 2,
       "version_minor": 0
      },
      "text/plain": [
       "Epoch [90/100]: lr=0.001:   0%|          | 0/40 [00:00<?, ?it/s]"
      ]
     },
     "metadata": {},
     "output_type": "display_data"
    },
    {
     "name": "stdout",
     "output_type": "stream",
     "text": [
      "Epoch [90/100]: Train Loss=0.6805495619773865, Val Loss=9.367020606994629\n"
     ]
    },
    {
     "data": {
      "application/vnd.jupyter.widget-view+json": {
       "model_id": "2cf24074cc44416db70fcdd1cac58829",
       "version_major": 2,
       "version_minor": 0
      },
      "text/plain": [
       "Epoch [91/100]: lr=0.001:   0%|          | 0/40 [00:00<?, ?it/s]"
      ]
     },
     "metadata": {},
     "output_type": "display_data"
    },
    {
     "name": "stdout",
     "output_type": "stream",
     "text": [
      "Epoch [91/100]: Train Loss=0.6464428901672363, Val Loss=9.366422653198242\n"
     ]
    },
    {
     "data": {
      "application/vnd.jupyter.widget-view+json": {
       "model_id": "74bc6e0031c4418f9b1b3411388f85be",
       "version_major": 2,
       "version_minor": 0
      },
      "text/plain": [
       "Epoch [92/100]: lr=0.001:   0%|          | 0/40 [00:00<?, ?it/s]"
      ]
     },
     "metadata": {},
     "output_type": "display_data"
    },
    {
     "name": "stdout",
     "output_type": "stream",
     "text": [
      "Epoch [92/100]: Train Loss=0.7149147391319275, Val Loss=9.34559440612793\n"
     ]
    },
    {
     "data": {
      "application/vnd.jupyter.widget-view+json": {
       "model_id": "237d255f024147daa99b047ceaa6483f",
       "version_major": 2,
       "version_minor": 0
      },
      "text/plain": [
       "Epoch [93/100]: lr=0.001:   0%|          | 0/40 [00:00<?, ?it/s]"
      ]
     },
     "metadata": {},
     "output_type": "display_data"
    },
    {
     "name": "stdout",
     "output_type": "stream",
     "text": [
      "Epoch [93/100]: Train Loss=0.7269088625907898, Val Loss=9.356246948242188\n"
     ]
    },
    {
     "data": {
      "application/vnd.jupyter.widget-view+json": {
       "model_id": "1fb763c299694f33a13631359e1b2fbd",
       "version_major": 2,
       "version_minor": 0
      },
      "text/plain": [
       "Epoch [94/100]: lr=0.001:   0%|          | 0/40 [00:00<?, ?it/s]"
      ]
     },
     "metadata": {},
     "output_type": "display_data"
    },
    {
     "name": "stdout",
     "output_type": "stream",
     "text": [
      "Epoch [94/100]: Train Loss=0.6580234169960022, Val Loss=9.362043380737305\n"
     ]
    },
    {
     "data": {
      "application/vnd.jupyter.widget-view+json": {
       "model_id": "359e93c0d85740bca9b9a51a49247b78",
       "version_major": 2,
       "version_minor": 0
      },
      "text/plain": [
       "Epoch [95/100]: lr=0.001:   0%|          | 0/40 [00:00<?, ?it/s]"
      ]
     },
     "metadata": {},
     "output_type": "display_data"
    },
    {
     "name": "stdout",
     "output_type": "stream",
     "text": [
      "Epoch [95/100]: Train Loss=0.7444828748703003, Val Loss=9.371784210205078\n"
     ]
    },
    {
     "data": {
      "application/vnd.jupyter.widget-view+json": {
       "model_id": "5bd4825a430a4d89b499416d231fd583",
       "version_major": 2,
       "version_minor": 0
      },
      "text/plain": [
       "Epoch [96/100]: lr=0.001:   0%|          | 0/40 [00:00<?, ?it/s]"
      ]
     },
     "metadata": {},
     "output_type": "display_data"
    },
    {
     "name": "stdout",
     "output_type": "stream",
     "text": [
      "Epoch [96/100]: Train Loss=0.6832801103591919, Val Loss=9.384918212890625\n"
     ]
    },
    {
     "data": {
      "application/vnd.jupyter.widget-view+json": {
       "model_id": "6458fe8ceed244b188e94dfbe7e8c361",
       "version_major": 2,
       "version_minor": 0
      },
      "text/plain": [
       "Epoch [97/100]: lr=0.001:   0%|          | 0/40 [00:00<?, ?it/s]"
      ]
     },
     "metadata": {},
     "output_type": "display_data"
    },
    {
     "name": "stdout",
     "output_type": "stream",
     "text": [
      "Epoch [97/100]: Train Loss=0.690313458442688, Val Loss=9.36836051940918\n"
     ]
    },
    {
     "data": {
      "application/vnd.jupyter.widget-view+json": {
       "model_id": "285a012e1ea14233b821e500081fc0a1",
       "version_major": 2,
       "version_minor": 0
      },
      "text/plain": [
       "Epoch [98/100]: lr=0.001:   0%|          | 0/40 [00:00<?, ?it/s]"
      ]
     },
     "metadata": {},
     "output_type": "display_data"
    },
    {
     "name": "stdout",
     "output_type": "stream",
     "text": [
      "Epoch [98/100]: Train Loss=0.6955564618110657, Val Loss=9.373592376708984\n"
     ]
    },
    {
     "data": {
      "application/vnd.jupyter.widget-view+json": {
       "model_id": "eb803b2f80fe442a9e62a2be3e2769b3",
       "version_major": 2,
       "version_minor": 0
      },
      "text/plain": [
       "Epoch [99/100]: lr=0.001:   0%|          | 0/40 [00:00<?, ?it/s]"
      ]
     },
     "metadata": {},
     "output_type": "display_data"
    },
    {
     "name": "stdout",
     "output_type": "stream",
     "text": [
      "Epoch [99/100]: Train Loss=0.6922789812088013, Val Loss=9.37344741821289\n"
     ]
    },
    {
     "data": {
      "application/vnd.jupyter.widget-view+json": {
       "model_id": "2f7bfee5f53845a0aafe2d3e44461ad9",
       "version_major": 2,
       "version_minor": 0
      },
      "text/plain": [
       "Epoch [100/100]: lr=0.001:   0%|          | 0/40 [00:00<?, ?it/s]"
      ]
     },
     "metadata": {},
     "output_type": "display_data"
    },
    {
     "name": "stdout",
     "output_type": "stream",
     "text": [
      "Epoch [100/100]: Train Loss=0.6350679397583008, Val Loss=9.38142204284668\n"
     ]
    }
   ],
   "source": [
    "train_losses, val_losses = train_yolo(yolo,\n",
    "           yolo_loss,\n",
    "           train_dataloader=train_dataloader,\n",
    "           val_dataloader=val_dataloader)"
   ]
  },
  {
   "cell_type": "code",
   "execution_count": null,
   "id": "53e91f29-a841-48b6-9f97-434f93cf92fa",
   "metadata": {},
   "outputs": [],
   "source": [
    "plt.plot(range(EPOCHS), train_losses)\n",
    "plt.plot(range(EPOCHS), val_losses)"
   ]
  },
  {
   "cell_type": "code",
   "execution_count": null,
   "id": "e31341fe-fb1b-4116-baa8-2a31002f427b",
   "metadata": {},
   "outputs": [],
   "source": []
  }
 ],
 "metadata": {
  "kernelspec": {
   "display_name": "Python 3 (ipykernel)",
   "language": "python",
   "name": "python3"
  },
  "language_info": {
   "codemirror_mode": {
    "name": "ipython",
    "version": 3
   },
   "file_extension": ".py",
   "mimetype": "text/x-python",
   "name": "python",
   "nbconvert_exporter": "python",
   "pygments_lexer": "ipython3",
   "version": "3.9.16"
  }
 },
 "nbformat": 4,
 "nbformat_minor": 5
}
