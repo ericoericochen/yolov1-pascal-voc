{
  "cells": [
    {
      "cell_type": "code",
      "execution_count": 1,
      "id": "b7f27c9d-d62d-4bf4-aea7-172072cf07a8",
      "metadata": {
        "tags": []
      },
      "outputs": [],
      "source": [
        "%load_ext autoreload\n",
        "%autoreload 2"
      ]
    },
    {
      "cell_type": "code",
      "execution_count": 26,
      "id": "9b302ee7",
      "metadata": {
        "tags": []
      },
      "outputs": [],
      "source": [
        "import torch\n",
        "from torch.utils.data import DataLoader\n",
        "from torch.optim.lr_scheduler import MultiStepLR\n",
        "import torchvision\n",
        "import matplotlib.pyplot as plt\n",
        "import dataset\n",
        "from model import ResNet18YOLOv1\n",
        "from loss import YOLOv1Loss\n",
        "from tqdm import tqdm"
      ]
    },
    {
      "cell_type": "markdown",
      "id": "4ecbed67-d7f8-4c72-9cfa-429f38b82556",
      "metadata": {
        "tags": []
      },
      "source": [
        "# About\n",
        "This is an implementation of YOLOv1 from ***You Only Look Once: Unified, Real-Time Object Detection by Joseph Redmon, Santosh Divvala, Ross Girshick, and Ali Firhadi.*** Object detection is figuring out what objects are in an image and where they are. Another way to look at this problem is how can we write a computer program that draws bounding boxes around objects and predicts what kind of objects they are. YOLO solves this problem and does it super fast, like state of the art fast!\n",
        "\n",
        "Let's talk about R-CNN, the predecessor to YOLO. It proposed regions, ran a classifier on every region, and did some post-processing to produce the final result. In simple language this translates to:\n",
        "1. Lemme draw a lot of bounding boxes where I think objects are\n",
        "2. Lemme figure out what are in the bounding boxes I drew\n",
        "3. Ok, I drew too many bounding boxes, lemme remove most of them and keep the important ones\n",
        "\n",
        "This is a lot of steps. What YOLO does instead is ***unified detection***. Unified detection combines the different components of object detection (where are the objects and what kind of objects are they) into one Convolutional Neural Network. You give it an image and in one swoop, it tells you exactly that.\n",
        "\n",
        "Here's how it does it:\n",
        "1. Divide the image into a SxS grid\n",
        "2. Each cell in the grid predicts B bounding boxes and C class probabilities (what it thinks the object is)\n",
        "\n",
        "We represent bounding boxes with 5 numbers: x, y, w, h, p.\n",
        "- (x, y): center of the bounding box\n",
        "- w: width\n",
        "- h: height\n",
        "- p: confidence (a measure of how confident we are that this box captures an object and matches the ground truth)\n",
        "\n",
        "Accordingly, YOLOv1 produces a SxSx(5B+C) tensor. Each cell predicts B bounding boxes, how do we choose which one is the \"true\" predictor? How do we measure how good our bounding box and classification predictions are? \n",
        "\n",
        "We check which bounding box has the greatest overlap (IOU: Intersection Over Union) with the ground truth and choose that one as a predictor. We use this loss function to measure the \"goodness\" of our predictions:\n",
        "\n",
        "![yolo loss function](https://i.stack.imgur.com/IddFu.png)\n",
        "\n",
        "On a high level, it is the squared error between our prediction and the ground truth. "
      ]
    },
    {
      "cell_type": "markdown",
      "id": "2189430c-7b31-498f-8498-e5254ba79dc4",
      "metadata": {
        "tags": []
      },
      "source": [
        "# PASCAL VOC 2007 Dataset"
      ]
    },
    {
      "cell_type": "markdown",
      "id": "9ff97fac-bdec-4ce3-b2d6-a4d6a7945642",
      "metadata": {},
      "source": [
        "PASCAL VOC Detection Dataset contains annotated images with 20 labelled classes and bounding boxes. There are 2,501 images in the training set, 2,510 images in the validation set, and 4,952 images in the test set."
      ]
    },
    {
      "cell_type": "code",
      "execution_count": 27,
      "id": "5525f8a3-d645-45ea-b44c-9f1ca9ab6c9b",
      "metadata": {
        "tags": []
      },
      "outputs": [],
      "source": [
        "# original dataset\n",
        "pascal_voc_train = torchvision.datasets.VOCDetection(\n",
        "    root=\"data\",\n",
        "    year=\"2007\",\n",
        "    image_set=\"train\",\n",
        "    download=False\n",
        ")\n",
        "\n",
        "pascal_voc_val = torchvision.datasets.VOCDetection(\n",
        "    root=\"data\",\n",
        "    year=\"2007\",\n",
        "    image_set=\"val\",\n",
        "    download=False\n",
        ")\n",
        "\n",
        "pascal_voc_test = torchvision.datasets.VOCDetection(\n",
        "    root=\"data\",\n",
        "    year=\"2007\",\n",
        "    image_set=\"test\",\n",
        "    download=False\n",
        ")"
      ]
    },
    {
      "cell_type": "code",
      "execution_count": 28,
      "id": "11520045",
      "metadata": {
        "tags": []
      },
      "outputs": [
        {
          "name": "stdout",
          "output_type": "stream",
          "text": [
            "TRANSFORMING PASCAL VOC\n",
            "TRANSFORMING PASCAL VOC\n",
            "TRANSFORMING PASCAL VOC\n"
          ]
        }
      ],
      "source": [
        "# augment dataset for YOLOv1: resize and normalize image and convert bounding boxes from annotations to tensors\n",
        "voc_train = dataset.PascalVOC(pascal_voc=pascal_voc_train)\n",
        "voc_val = dataset.PascalVOC(pascal_voc=pascal_voc_val)\n",
        "voc_test = dataset.PascalVOC(pascal_voc=pascal_voc_test)"
      ]
    },
    {
      "cell_type": "code",
      "execution_count": 29,
      "id": "1abb4f1f",
      "metadata": {
        "tags": []
      },
      "outputs": [],
      "source": [
        "BATCH_SIZE = 64"
      ]
    },
    {
      "cell_type": "code",
      "execution_count": 30,
      "id": "a8674b35",
      "metadata": {
        "tags": []
      },
      "outputs": [],
      "source": [
        "# train_dataloader = DataLoader(voc_train, batch_size=BATCH_SIZE, shuffle=True)\n",
        "# val_dataloader = DataLoader(voc_val, batch_size=BATCH_SIZE, shuffle=True)\n",
        "# test_dataloader = DataLoader(voc_test, batch_size=BATCH_SIZE, shuffle=True)\n",
        "\n",
        "train_dataloader = DataLoader(voc_train, batch_size=BATCH_SIZE, shuffle=False)\n",
        "val_dataloader = DataLoader(voc_val, batch_size=BATCH_SIZE, shuffle=False)\n",
        "test_dataloader = DataLoader(voc_test, batch_size=BATCH_SIZE, shuffle=False)"
      ]
    },
    {
      "cell_type": "markdown",
      "id": "b831392b-941b-4c64-86fa-a23bf3c558f5",
      "metadata": {
        "tags": []
      },
      "source": [
        "# Training"
      ]
    },
    {
      "cell_type": "markdown",
      "id": "bf5f716d-75e5-4367-9fdf-fe1843843bd5",
      "metadata": {
        "tags": []
      },
      "source": [
        "## Device"
      ]
    },
    {
      "cell_type": "code",
      "execution_count": 31,
      "id": "5c323bd4-63e6-441d-bd8e-65b404122ba3",
      "metadata": {
        "tags": []
      },
      "outputs": [
        {
          "data": {
            "text/plain": [
              "device(type='cuda')"
            ]
          },
          "execution_count": 31,
          "metadata": {},
          "output_type": "execute_result"
        }
      ],
      "source": [
        "DEVICE = \"cpu\"\n",
        "\n",
        "if torch.cuda.is_available():\n",
        "    DEVICE = torch.device(\"cuda\")\n",
        "if torch.backends.mps.is_available() and torch.backends.mps.is_built():\n",
        "    DEVICE = torch.device(\"mps\")\n",
        "\n",
        "DEVICE"
      ]
    },
    {
      "cell_type": "markdown",
      "id": "5065e90d-ef48-4244-92e9-2553e44518ce",
      "metadata": {
        "tags": []
      },
      "source": [
        "## Hyperparameters\n",
        "- S: dimensions of SxS grid\n",
        "- B: number of bounding boxes predicted per cell\n",
        "- C: number of classes"
      ]
    },
    {
      "cell_type": "code",
      "execution_count": 32,
      "id": "2f9313e8-6e96-4d4a-8dd6-98d56df27ad4",
      "metadata": {
        "tags": []
      },
      "outputs": [],
      "source": [
        "S = 7\n",
        "B = 2\n",
        "C = 20\n",
        "lambda_coord = 5.0\n",
        "lambda_noobj = 0.5"
      ]
    },
    {
      "cell_type": "markdown",
      "id": "254ef8df-55aa-4f2d-8a6b-805f5ed1b276",
      "metadata": {
        "tags": []
      },
      "source": [
        "## Model\n",
        "ResNet18 convolutional layers pretrained on ImageNet with 2 feedforward layers outputting a (N x S x S x (5B + C)) tensor."
      ]
    },
    {
      "cell_type": "code",
      "execution_count": 33,
      "id": "8400c085-8bac-4b61-b13d-3b100a6f7c17",
      "metadata": {
        "tags": []
      },
      "outputs": [],
      "source": [
        "yolo = ResNet18YOLOv1(S=S, B=B, C=C).to(DEVICE)"
      ]
    },
    {
      "cell_type": "markdown",
      "id": "45afc591-7cce-4066-903d-60e436c74b58",
      "metadata": {
        "tags": []
      },
      "source": [
        "## Loss + Optimizer\n",
        "![yolo loss function](https://i.stack.imgur.com/IddFu.png)\n",
        "\n",
        "We use stochastic gradient descent with a learning rate of 1e-3, weight decay (L2 regularization) of 0.0005, and momentum of 0.9."
      ]
    },
    {
      "cell_type": "code",
      "execution_count": 34,
      "id": "d36287be-210a-452c-bf59-3874c2cb6681",
      "metadata": {
        "tags": []
      },
      "outputs": [],
      "source": [
        "yolo_loss = YOLOv1Loss(S=S, B=B, C=C, lambda_coord=lambda_coord, lambda_noobj=lambda_noobj)"
      ]
    },
    {
      "cell_type": "markdown",
      "id": "8cbbfadb-3e8d-468e-9695-0e6b67b65f20",
      "metadata": {},
      "source": [
        "## Train\n",
        "Train model with a learning rate of 1e-3 for the first few epochs, raise learning rate to 1e-2 and train for 75 epochs, then lower to 1e-3 for 30 epochs, and finally 1e-4 for 30 epochs.\n",
        "\n",
        "We train the network for about 135 epochs."
      ]
    },
    {
      "cell_type": "code",
      "execution_count": 35,
      "id": "cc42c578-7fd1-462a-b415-c45d8529573e",
      "metadata": {
        "tags": []
      },
      "outputs": [],
      "source": [
        "def evaluate_loss(model, criterion, dataloader):\n",
        "    total_loss = 0\n",
        "    model.eval()\n",
        "    \n",
        "    with torch.no_grad():\n",
        "        for X, Y in dataloader:\n",
        "            X = X.to(DEVICE)\n",
        "            Y = Y.to(DEVICE)\n",
        "\n",
        "            pred = model(X)\n",
        "            loss = criterion(pred, Y)\n",
        "            total_loss += loss.item()\n",
        "            \n",
        "    N = len(dataloader)\n",
        "    # loss = total_loss / N\n",
        "    loss = total_loss\n",
        "    \n",
        "    return loss"
      ]
    },
    {
      "cell_type": "code",
      "execution_count": 36,
      "id": "e95cd065-6e67-4363-b8ad-cd0c5d9831d4",
      "metadata": {
        "tags": []
      },
      "outputs": [],
      "source": [
        "torch.cuda.empty_cache()"
      ]
    },
    {
      "cell_type": "code",
      "execution_count": 37,
      "id": "da10513c-17e8-473b-925b-8916ddaeb8d8",
      "metadata": {
        "tags": []
      },
      "outputs": [],
      "source": [
        "EPOCHS = 135\n",
        "MOMENTUM = 0.9\n",
        "WEIGHT_DECAY = 0.0005\n",
        "\n",
        "def train_yolo(model, criterion, train_dataloader, val_dataloader):\n",
        "    pre_optimizer = torch.optim.SGD(model.parameters(), lr=1e-3, weight_decay=WEIGHT_DECAY, momentum=MOMENTUM)\n",
        "    optimizer = torch.optim.SGD(model.parameters(), lr=1e-3, weight_decay=WEIGHT_DECAY, momentum=MOMENTUM)\n",
        "    scheduler = MultiStepLR(optimizer,\n",
        "                            milestones=[75, 105],\n",
        "                            gamma=0.1)\n",
        "    \n",
        "    train_losses = []\n",
        "    val_losses = []\n",
        "\n",
        "    N = len(train_dataloader)\n",
        "\n",
        "    # train\n",
        "    for epoch in range(EPOCHS):\n",
        "        model.train()\n",
        "        total_loss = 0\n",
        "        lr = optimizer.param_groups[0][\"lr\"]\n",
        "        for i, (X, Y) in enumerate(tqdm(train_dataloader, leave=False, desc=f\"Epoch [{epoch+1}/{EPOCHS}]: lr={lr}\")):\n",
        "            X = X.to(DEVICE)\n",
        "            Y = Y.to(DEVICE)\n",
        "\n",
        "            pred = model(X)\n",
        "            \n",
        "            # print(pred)\n",
        "            loss = criterion(pred, Y)\n",
        "            # print(loss)\n",
        "            total_loss += loss.item()\n",
        "\n",
        "            # backprop\n",
        "            optimizer.zero_grad()\n",
        "            loss.backward()\n",
        "            optimizer.step()\n",
        "\n",
        "        train_loss = total_loss / N\n",
        "        train_losses.append(train_loss)\n",
        "\n",
        "        # update learning rate\n",
        "        scheduler.step()\n",
        "\n",
        "        # evaluate on validation set\n",
        "        val_loss = evaluate_loss(model, criterion, val_dataloader)\n",
        "        val_losses.append(val_loss)\n",
        "        \n",
        "        print(f\"Epoch [{epoch+1}/{EPOCHS}]: Train Loss={train_loss}, Val Loss={val_loss}\")\n",
        "    \n",
        "    return train_losses, val_losses"
      ]
    },
    {
      "cell_type": "code",
      "execution_count": null,
      "id": "40116bcc-8aef-427f-8498-d0c43cc93077",
      "metadata": {
        "tags": []
      },
      "outputs": [
        {
          "name": "stderr",
          "output_type": "stream",
          "text": [
            "                                                                        \r"
          ]
        },
        {
          "name": "stdout",
          "output_type": "stream",
          "text": [
            "Epoch [1/135]: Train Loss=13.076026654243469, Val Loss=8.242039775848388\n"
          ]
        },
        {
          "name": "stderr",
          "output_type": "stream",
          "text": [
            "                                                                        \r"
          ]
        },
        {
          "name": "stdout",
          "output_type": "stream",
          "text": [
            "Epoch [2/135]: Train Loss=7.555111837387085, Val Loss=7.0126620650291445\n"
          ]
        },
        {
          "name": "stderr",
          "output_type": "stream",
          "text": [
            "                                                                        \r"
          ]
        },
        {
          "name": "stdout",
          "output_type": "stream",
          "text": [
            "Epoch [3/135]: Train Loss=6.330504268407822, Val Loss=6.748044264316559\n"
          ]
        },
        {
          "name": "stderr",
          "output_type": "stream",
          "text": [
            "                                                                        \r"
          ]
        },
        {
          "name": "stdout",
          "output_type": "stream",
          "text": [
            "Epoch [4/135]: Train Loss=5.602589225769043, Val Loss=6.502433907985687\n"
          ]
        },
        {
          "name": "stderr",
          "output_type": "stream",
          "text": [
            "                                                                        \r"
          ]
        },
        {
          "name": "stdout",
          "output_type": "stream",
          "text": [
            "Epoch [5/135]: Train Loss=5.095652854442596, Val Loss=6.412951004505158\n"
          ]
        },
        {
          "name": "stderr",
          "output_type": "stream",
          "text": [
            "                                                                        \r"
          ]
        },
        {
          "name": "stdout",
          "output_type": "stream",
          "text": [
            "Epoch [6/135]: Train Loss=4.541189247369767, Val Loss=6.240354895591736\n"
          ]
        },
        {
          "name": "stderr",
          "output_type": "stream",
          "text": [
            "                                                                        \r"
          ]
        },
        {
          "name": "stdout",
          "output_type": "stream",
          "text": [
            "Epoch [7/135]: Train Loss=4.177050065994263, Val Loss=6.16488698720932\n"
          ]
        },
        {
          "name": "stderr",
          "output_type": "stream",
          "text": [
            "                                                                        \r"
          ]
        },
        {
          "name": "stdout",
          "output_type": "stream",
          "text": [
            "Epoch [8/135]: Train Loss=3.935801684856415, Val Loss=6.179985439777374\n"
          ]
        },
        {
          "name": "stderr",
          "output_type": "stream",
          "text": [
            "                                                                        \r"
          ]
        },
        {
          "name": "stdout",
          "output_type": "stream",
          "text": [
            "Epoch [9/135]: Train Loss=3.634955132007599, Val Loss=6.083581030368805\n"
          ]
        },
        {
          "name": "stderr",
          "output_type": "stream",
          "text": [
            "                                                                         \r"
          ]
        },
        {
          "name": "stdout",
          "output_type": "stream",
          "text": [
            "Epoch [10/135]: Train Loss=3.278478467464447, Val Loss=6.008610856533051\n"
          ]
        },
        {
          "name": "stderr",
          "output_type": "stream",
          "text": [
            "                                                                         \r"
          ]
        },
        {
          "name": "stdout",
          "output_type": "stream",
          "text": [
            "Epoch [11/135]: Train Loss=3.0551515400409697, Val Loss=5.977478551864624\n"
          ]
        },
        {
          "name": "stderr",
          "output_type": "stream",
          "text": [
            "                                                                         \r"
          ]
        },
        {
          "name": "stdout",
          "output_type": "stream",
          "text": [
            "Epoch [12/135]: Train Loss=2.8305365204811097, Val Loss=5.963375318050384\n"
          ]
        },
        {
          "name": "stderr",
          "output_type": "stream",
          "text": [
            "Epoch [13/135]: lr=0.001:  42%|████▎     | 17/40 [00:13<00:18,  1.24it/s]"
          ]
        },
        {
          "name": "stdout",
          "output_type": "stream",
          "text": [
            "Epoch [25/135]: Train Loss=1.2844058126211166, Val Loss=5.891993165016174\n"
          ]
        },
        {
          "name": "stderr",
          "output_type": "stream",
          "text": [
            "                                                                         \r"
          ]
        },
        {
          "name": "stdout",
          "output_type": "stream",
          "text": [
            "Epoch [26/135]: Train Loss=1.2400614470243454, Val Loss=5.86917667388916\n"
          ]
        },
        {
          "name": "stderr",
          "output_type": "stream",
          "text": [
            "                                                                         \r"
          ]
        }
      ],
      "source": [
        "train_losses, val_losses = train_yolo(yolo,\n",
        "           yolo_loss,\n",
        "           train_dataloader=train_dataloader,\n",
        "           val_dataloader=val_dataloader)"
      ]
    },
    {
      "cell_type": "code",
      "execution_count": 23,
      "id": "53e91f29-a841-48b6-9f97-434f93cf92fa",
      "metadata": {
        "tags": []
      },
      "outputs": [
        {
          "ename": "NameError",
          "evalue": "name 'train' is not defined",
          "output_type": "error",
          "traceback": [
            "\u001b[0;31m---------------------------------------------------------------------------\u001b[0m",
            "\u001b[0;31mNameError\u001b[0m                                 Traceback (most recent call last)",
            "Cell \u001b[0;32mIn[23], line 5\u001b[0m\n\u001b[1;32m      2\u001b[0m plt\u001b[38;5;241m.\u001b[39mxlabel(\u001b[38;5;124m\"\u001b[39m\u001b[38;5;124mEpochs\u001b[39m\u001b[38;5;124m\"\u001b[39m)\n\u001b[1;32m      3\u001b[0m plt\u001b[38;5;241m.\u001b[39mylabel(\u001b[38;5;124m\"\u001b[39m\u001b[38;5;124mLoss\u001b[39m\u001b[38;5;124m\"\u001b[39m)\n\u001b[0;32m----> 5\u001b[0m plt\u001b[38;5;241m.\u001b[39mplot(\u001b[38;5;28mrange\u001b[39m(EPOCHS), \u001b[43mtrain\u001b[49m)\n",
            "\u001b[0;31mNameError\u001b[0m: name 'train' is not defined"
          ]
        },
        {
          "data": {
            "image/png": "[encoded data removed]",
            "text/plain": [
              "<Figure size 640x480 with 1 Axes>"
            ]
          },
          "metadata": {},
          "output_type": "display_data"
        }
      ],
      "source": [
        "plt.title(\"Train Loss vs. Validation Loss\")\n",
        "plt.xlabel(\"Epochs\")\n",
        "plt.ylabel(\"Loss\")\n",
        "\n",
        "plt.plot(range(EPOCHS), train_losses, label=\"Train Loss\")\n",
        "plt.plot(range(EPOCHS), val_losses, label=\"Val Loss\")\n",
        "\n",
        "plt.legend()"
      ]
    },
    {
      "cell_type": "code",
      "execution_count": null,
      "id": "e6f47116-c4d1-4dfb-a13c-e9fe2bf9f52d",
      "metadata": {},
      "outputs": [],
      "source": [
        "_l"
      ]
    }
  ],
  "metadata": {
    "kernelspec": {
      "display_name": "deeplearning:Python",
      "language": "python",
      "name": "conda-env-deeplearning-py"
    },
    "language_info": {
      "codemirror_mode": {
        "name": "ipython",
        "version": 3
      },
      "file_extension": ".py",
      "mimetype": "text/x-python",
      "name": "python",
      "nbconvert_exporter": "python",
      "pygments_lexer": "ipython3",
      "version": "3.9.16"
    }
  },
  "nbformat": 4,
  "nbformat_minor": 5
}
